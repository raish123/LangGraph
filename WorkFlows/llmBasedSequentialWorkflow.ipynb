{
 "cells": [
  {
   "cell_type": "code",
   "execution_count": 1,
   "id": "c2a31d9b",
   "metadata": {},
   "outputs": [],
   "source": [
    "from langchain_groq import ChatGroq\n",
    "from langchain_openai import ChatOpenAI,OpenAIEmbeddings #this to above classes we used to interact with llm model.\n",
    "from dotenv import load_dotenv\n",
    "from langgraph.graph import StateGraph,END,START #this class we used to build stateful workflows in graphical form mei.\n",
    "from pydantic import BaseModel,Field,computed_field\n",
    "from typing import Annotated,List,Dict,TypedDict,Optional\n"
   ]
  },
  {
   "cell_type": "code",
   "execution_count": 2,
   "id": "143300f0",
   "metadata": {},
   "outputs": [
    {
     "data": {
      "text/plain": [
       "True"
      ]
     },
     "execution_count": 2,
     "metadata": {},
     "output_type": "execute_result"
    }
   ],
   "source": [
    "load_dotenv()"
   ]
  },
  {
   "cell_type": "markdown",
   "id": "e0d9c6f1",
   "metadata": {},
   "source": [
    "# creating LLM model object futhure we r interacting with model"
   ]
  },
  {
   "cell_type": "code",
   "execution_count": 3,
   "id": "4c551e2b",
   "metadata": {},
   "outputs": [],
   "source": [
    "from langchain_huggingface import ChatHuggingFace,HuggingFaceEndpoint\n",
    "\n",
    "\n",
    "#first we have to define kon se HuggingFaceEndpoint pe API Request jayeghi\n",
    "# Hugging Face endpoint define karo\n",
    "llm = HuggingFaceEndpoint(\n",
    "    repo_id=\"mistralai/Mistral-7B-Instruct-v0.3\",\n",
    "    task=\"text-generation\",\n",
    "    max_new_tokens=512,\n",
    "    do_sample=False,\n",
    ")\n",
    "\n",
    "# Chat model object banao\n",
    "model1 = ChatHuggingFace(llm=llm)\n",
    "model2 = ChatOpenAI(temperature=0.2)"
   ]
  },
  {
   "cell_type": "code",
   "execution_count": 4,
   "id": "2903456c",
   "metadata": {},
   "outputs": [
    {
     "data": {
      "text/plain": [
       "AIMessage(content=\" Hello! How can I help you today? If you have any questions or need assistance with something, feel free to ask. I'm here to help!\", additional_kwargs={}, response_metadata={'token_usage': {'completion_tokens': 33, 'prompt_tokens': 6, 'total_tokens': 39}, 'model_name': 'mistralai/Mistral-7B-Instruct-v0.3', 'system_fingerprint': None, 'finish_reason': 'stop', 'logprobs': None}, id='run--39e081d7-cfdc-429b-a194-1ce11b922aea-0', usage_metadata={'input_tokens': 6, 'output_tokens': 33, 'total_tokens': 39})"
      ]
     },
     "execution_count": 4,
     "metadata": {},
     "output_type": "execute_result"
    }
   ],
   "source": [
    "model1.invoke(\"hello\")"
   ]
  },
  {
   "cell_type": "code",
   "execution_count": 5,
   "id": "40135874",
   "metadata": {},
   "outputs": [],
   "source": [
    "from langchain_core.output_parsers import StrOutputParser\n",
    "from langchain_core.prompts import PromptTemplate\n",
    "parser = StrOutputParser()"
   ]
  },
  {
   "cell_type": "markdown",
   "id": "bd02603b",
   "metadata": {},
   "source": [
    "# step:1) Defining state or memory class using pydantic"
   ]
  },
  {
   "cell_type": "code",
   "execution_count": 6,
   "id": "204964bb",
   "metadata": {},
   "outputs": [],
   "source": [
    "class QuestionAnswer(BaseModel):\n",
    "    question : str  = Field(...,description=\"question prompt providing to LLM Model\")\n",
    "    answer : Optional[str]    = Field(None,description=\"response getting from llm model\")"
   ]
  },
  {
   "cell_type": "code",
   "execution_count": 7,
   "id": "f7d9fa4e",
   "metadata": {},
   "outputs": [
    {
     "data": {
      "text/plain": [
       "<langgraph.graph.state.StateGraph at 0x24b88671000>"
      ]
     },
     "execution_count": 7,
     "metadata": {},
     "output_type": "execute_result"
    }
   ],
   "source": [
    "#creating an object of stategraph class\n",
    "graph = StateGraph(QuestionAnswer) #this class will have intial memory +  graph init.\n",
    "graph"
   ]
  },
  {
   "cell_type": "markdown",
   "id": "e6f9e338",
   "metadata": {},
   "source": [
    "# step:2) adding nodes or edges to graph"
   ]
  },
  {
   "cell_type": "code",
   "execution_count": 8,
   "id": "e4c702a9",
   "metadata": {},
   "outputs": [],
   "source": [
    "#reducer function\n",
    "def llm_ques_answer(state:QuestionAnswer) -> QuestionAnswer:\n",
    "    \n",
    "    #now fetching question from the current state object.\n",
    "    ques = state.question\n",
    "    \n",
    "    #changing question to structure instruction template mei.\n",
    "    prompt = PromptTemplate(\n",
    "    template=\"\"\"\n",
    "    You are a helpful assistant.\n",
    "    Please provide a concise and summarized answer to the following question:\n",
    "\n",
    "    Question: {question}\n",
    "    \"\"\",\n",
    "    input_variables=[\"question\"]\n",
    ")\n",
    "    \n",
    "    #now this question passing to llm model1\n",
    "    chain = prompt | model1 | parser\n",
    "    \n",
    "    #now updating the state with answer.\n",
    "    state.answer = chain.invoke({'question':ques})\n",
    "    \n",
    "    #returining updated state.\n",
    "    return state\n",
    "    \n",
    "    "
   ]
  },
  {
   "cell_type": "code",
   "execution_count": 9,
   "id": "8747e738",
   "metadata": {},
   "outputs": [
    {
     "data": {
      "text/plain": [
       "<langgraph.graph.state.StateGraph at 0x24b88671000>"
      ]
     },
     "execution_count": 9,
     "metadata": {},
     "output_type": "execute_result"
    }
   ],
   "source": [
    "graph.add_node(\"llm_ques_answer\",llm_ques_answer)\n",
    "\n",
    "#now definging edges that connect the node.\n",
    "graph.add_edge(START,\"llm_ques_answer\")\n",
    "graph.add_edge(\"llm_ques_answer\",END)"
   ]
  },
  {
   "cell_type": "markdown",
   "id": "da821eaf",
   "metadata": {},
   "source": [
    "# step:3 compiling the graph"
   ]
  },
  {
   "cell_type": "code",
   "execution_count": 10,
   "id": "42cc11d3",
   "metadata": {},
   "outputs": [
    {
     "data": {
      "image/png": "[encoded data removed]",
      "text/plain": [
       "<langgraph.graph.state.CompiledStateGraph object at 0x0000024B88671C60>"
      ]
     },
     "execution_count": 10,
     "metadata": {},
     "output_type": "execute_result"
    }
   ],
   "source": [
    "#to show the workflow in graphical form.\n",
    "graph.compile()"
   ]
  },
  {
   "cell_type": "code",
   "execution_count": 11,
   "id": "73baeedc",
   "metadata": {},
   "outputs": [],
   "source": [
    "workflow = graph.compile()"
   ]
  },
  {
   "cell_type": "code",
   "execution_count": 14,
   "id": "047a5b5c",
   "metadata": {},
   "outputs": [
    {
     "data": {
      "text/plain": [
       "{'question': 'how far is moon from the earth',\n",
       " 'answer': \" The average distance from the Earth to the Moon is approximately 238,855 miles (383,400 kilometers). This distance varies slightly due to the elliptical shape of the Moon's orbit around the Earth, with the Moon being closest (perigee) at about 225,623 miles (363,104 kilometers) and farthest (apogee) at about 252,088 miles (405,696 kilometers).\"}"
      ]
     },
     "execution_count": 14,
     "metadata": {},
     "output_type": "execute_result"
    }
   ],
   "source": [
    "inital_state = QuestionAnswer(question=\"how far is moon from the earth\")\n",
    "\n",
    "result = workflow.invoke(inital_state)\n",
    "result"
   ]
  },
  {
   "cell_type": "code",
   "execution_count": 15,
   "id": "533f8832",
   "metadata": {},
   "outputs": [
    {
     "data": {
      "text/plain": [
       "\" The average distance from the Earth to the Moon is approximately 238,855 miles (383,400 kilometers). This distance varies slightly due to the elliptical shape of the Moon's orbit around the Earth, with the Moon being closest (perigee) at about 225,623 miles (363,104 kilometers) and farthest (apogee) at about 252,088 miles (405,696 kilometers).\""
      ]
     },
     "execution_count": 15,
     "metadata": {},
     "output_type": "execute_result"
    }
   ],
   "source": [
    "result['answer']"
   ]
  }
 ],
 "metadata": {
  "kernelspec": {
   "display_name": "hf-gpu",
   "language": "python",
   "name": "python3"
  },
  "language_info": {
   "codemirror_mode": {
    "name": "ipython",
    "version": 3
   },
   "file_extension": ".py",
   "mimetype": "text/x-python",
   "name": "python",
   "nbconvert_exporter": "python",
   "pygments_lexer": "ipython3",
   "version": "3.10.18"
  }
 },
 "nbformat": 4,
 "nbformat_minor": 5
}
