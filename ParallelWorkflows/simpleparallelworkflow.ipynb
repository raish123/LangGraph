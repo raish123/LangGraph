{
 "cells": [
  {
   "cell_type": "code",
   "execution_count": 1,
   "id": "34cac65b",
   "metadata": {},
   "outputs": [
    {
     "data": {
      "text/plain": [
       "True"
      ]
     },
     "execution_count": 1,
     "metadata": {},
     "output_type": "execute_result"
    }
   ],
   "source": [
    "from langchain_groq import ChatGroq\n",
    "from langchain_openai import ChatOpenAI,OpenAIEmbeddings #this to above classes we used to interact with llm model.\n",
    "from dotenv import load_dotenv\n",
    "from langgraph.graph import StateGraph,END,START #this class we used to build stateful workflows in graphical form mei.\n",
    "from pydantic import BaseModel,Field,computed_field\n",
    "from typing import Annotated,List,Dict,TypedDict,Optional\n",
    "\n",
    "load_dotenv()"
   ]
  },
  {
   "cell_type": "markdown",
   "id": "c85bad3b",
   "metadata": {},
   "source": [
    "# step:1) defining LLM model Object"
   ]
  },
  {
   "cell_type": "code",
   "execution_count": 2,
   "id": "b063bd9e",
   "metadata": {},
   "outputs": [],
   "source": [
    "from langchain_huggingface import ChatHuggingFace,HuggingFaceEndpoint\n",
    "\n",
    "#first we have to define kon se HuggingFaceEndpoint pe API Request jayeghi\n",
    "# Hugging Face endpoint define karo\n",
    "llm = HuggingFaceEndpoint(\n",
    "    repo_id=\"mistralai/Mistral-7B-Instruct-v0.3\",\n",
    "    task=\"text-generation\",\n",
    "    max_new_tokens=512,\n",
    "    do_sample=False,\n",
    ")\n",
    "\n",
    "# Chat model object banao\n",
    "model1 = ChatHuggingFace(llm=llm)\n",
    "model2 = ChatOpenAI(temperature=0.2)"
   ]
  },
  {
   "cell_type": "markdown",
   "id": "5197108a",
   "metadata": {},
   "source": [
    "# step:2) defining state or memory class using pydantic and creating graphstate object"
   ]
  },
  {
   "cell_type": "code",
   "execution_count": 3,
   "id": "22147e13",
   "metadata": {},
   "outputs": [],
   "source": [
    "class BatsmanState(BaseModel):\n",
    "    runs: int = Field(...,description=\"Total run score by batsman per inning\")\n",
    "    balls : int = Field(...,description=\"Total balls played by batsman per inning\")\n",
    "    fours: int = Field(...,description=\"Total fours played by batsman per inning\")\n",
    "    sixes : int = Field(...,description=\"Total sixes played by batsman per inning\")\n",
    "      \n",
    "    #calculated fields.  \n",
    "    strikerate: Optional[float] = Field(None,description=\"Total strike rate of  batsman per inning\")\n",
    "    ball_per_boundary: Optional[float] = Field(None,description=\"Total ball per boundary of  batsman per inning\")\n",
    "    boundary_percentage:Optional[float] = Field(None,description=\"Total boundary percentage rate of  batsman per inning\")\n",
    "    summary:Optional[str] = Field(None,description=\"Describe the summary about batsman per inning\")"
   ]
  },
  {
   "cell_type": "code",
   "execution_count": 4,
   "id": "25440c07",
   "metadata": {},
   "outputs": [
    {
     "data": {
      "text/plain": [
       "<langgraph.graph.state.StateGraph at 0x18146263f70>"
      ]
     },
     "execution_count": 4,
     "metadata": {},
     "output_type": "execute_result"
    }
   ],
   "source": [
    "#creating state graph object by using StateGraph class\n",
    "graph = StateGraph(BatsmanState)\n",
    "graph"
   ]
  },
  {
   "cell_type": "markdown",
   "id": "8912e5a1",
   "metadata": {},
   "source": [
    "# step:3) adding nodes and edges to graph"
   ]
  },
  {
   "cell_type": "markdown",
   "id": "cdd87843",
   "metadata": {},
   "source": [
    "```\n",
    "LangGraph ke parallel workflow (ya sequential bhi), by default har node me agar tum sirf ek field return karte ho, to woh poore state object overwrite nahi hota. Sirf wahi field update hota hai jo return kiya gaya hai.\n",
    "\n",
    "this thing we have to take care refer below node function mei example\n",
    "```"
   ]
  },
  {
   "cell_type": "code",
   "execution_count": 5,
   "id": "41cad59f",
   "metadata": {},
   "outputs": [],
   "source": [
    "#creating strikeRate nodes ke liye user defined function.\n",
    "#below function is also be a reducer function means function take state as parameter and update the state and rtn it.\n",
    "def strikeRate(state:BatsmanState) -> BatsmanState:\n",
    "    #fetching the field from state class.\n",
    "    total_run = state.runs\n",
    "    total_ball = state.balls\n",
    "    \n",
    "    #formula to calculate strikerate\n",
    "    strikerate_caln =  (total_run / total_ball) * 100\n",
    "    \n",
    "    #update the strikerate field in state Memory mein.\n",
    "    strikerate = strikerate_caln\n",
    "    \n",
    "    #returning the updated state.\n",
    "    return {'strikerate':strikerate} #this we called as partial update in state memory."
   ]
  },
  {
   "cell_type": "code",
   "execution_count": 6,
   "id": "fa049619",
   "metadata": {},
   "outputs": [],
   "source": [
    "#creating boundaryPercentage node ke liye user define function.\n",
    "def boundaryPercentage(state:BatsmanState) -> BatsmanState:\n",
    "    #fetching the fields from BatsmanState class.\n",
    "    total_sixes = state.sixes\n",
    "    total_fours = state.fours\n",
    "    total_balls = state.balls\n",
    "    \n",
    "    num_caln = (total_fours * 4) + (total_sixes * 6) \n",
    "    \n",
    "    boun_perc = (num_caln)/(total_balls)*100\n",
    "    \n",
    "    #Only update the boundary_percentage field in state Memory mein.\n",
    "    boundary_percentage = boun_perc\n",
    "    return {'boundary_percentage':boundary_percentage}"
   ]
  },
  {
   "cell_type": "code",
   "execution_count": 7,
   "id": "196a39b3",
   "metadata": {},
   "outputs": [],
   "source": [
    "#creating BallPerBoundary nodes ke liye user defined function.\n",
    "def BallPerBoundary(state:BatsmanState) ->BatsmanState:\n",
    "    #fetching the field from state object.\n",
    "    total_balls = state.balls\n",
    "    no_of_boundary_hit = state.fours\n",
    "    \n",
    "    bpb = (total_balls/no_of_boundary_hit)*100\n",
    "    \n",
    "    #updating the ball_per_boundary field in memory state.\n",
    "    ball_per_boundary = bpb\n",
    "    \n",
    "    return {'ball_per_boundary':ball_per_boundary}"
   ]
  },
  {
   "cell_type": "code",
   "execution_count": 8,
   "id": "71a24ac3",
   "metadata": {},
   "outputs": [],
   "source": [
    "from langchain_core.prompts import PromptTemplate\n",
    "from langchain_core.output_parsers import StrOutputParser\n",
    "\n",
    "#creating object of StrOutputParser class\n",
    "parser = StrOutputParser()\n",
    "\n",
    "#creating summary nodes ke liye user defined function.\n",
    "def summary(state:BatsmanState) ->BatsmanState:\n",
    "    #fetching field from stae object.\n",
    "    boundary_percentage = state.boundary_percentage\n",
    "    strikerate = state.strikerate\n",
    "    bpb = state.ball_per_boundary\n",
    "    \n",
    "    #creating a structure instruction template prompt\n",
    "    \n",
    "    player_summary_prompt = PromptTemplate(\n",
    "    template=\"\"\"\n",
    "    You are a cricket analyst.\n",
    "\n",
    "    Based on the following performance statistics, provide a concise and clear summary\n",
    "    of the player's batting performance in this inning:\n",
    "\n",
    "    - Strike Rate: {strikerate}\n",
    "    - Boundary Percentage: {boundary_percentage}%\n",
    "    - Balls per Boundary: {ball_per_boundary}\n",
    "\n",
    "    Please highlight what these numbers indicate about the player's batting style \n",
    "    (e.g., aggressive, balanced, defensive).\n",
    "    \"\"\",\n",
    "    input_variables=[\"strikerate\", \"boundary_percentage\", \"ball_per_boundary\"]\n",
    "    )\n",
    "    \n",
    "    #creating chain to perform action\n",
    "    chain = player_summary_prompt | model2 | parser\n",
    "    \n",
    "    #invoking the chain\n",
    "    summary = chain.invoke({\"strikerate\":strikerate,\"boundary_percentage\":boundary_percentage,\"ball_per_boundary\":bpb})\n",
    "    \n",
    "    #updating the summary field only in state memory \n",
    "\n",
    "    return {'summary':summary} "
   ]
  },
  {
   "cell_type": "code",
   "execution_count": 9,
   "id": "680f3400",
   "metadata": {},
   "outputs": [
    {
     "data": {
      "text/plain": [
       "<langgraph.graph.state.StateGraph at 0x18146263f70>"
      ]
     },
     "execution_count": 9,
     "metadata": {},
     "output_type": "execute_result"
    }
   ],
   "source": [
    "#Nodes in LangGraph are simply user-defined Python functions that perform specific tasks.\n",
    "\n",
    "#adding nodes to graph\n",
    "graph.add_node(node='strikeRate',action=strikeRate)\n",
    "graph.add_node(node='boundaryPercentage',action=boundaryPercentage)\n",
    "graph.add_node(node='BallPerBoundary',action=BallPerBoundary)\n",
    "graph.add_node(node='summary',action=summary)\n"
   ]
  },
  {
   "cell_type": "code",
   "execution_count": 10,
   "id": "ed3d314c",
   "metadata": {},
   "outputs": [
    {
     "data": {
      "text/plain": [
       "<langgraph.graph.state.StateGraph at 0x18146263f70>"
      ]
     },
     "execution_count": 10,
     "metadata": {},
     "output_type": "execute_result"
    }
   ],
   "source": [
    "#adding the edges to graph that connect the node1 from node2...so on or we can set the loop or condition in edges.\n",
    "graph.add_edge(START,'strikeRate')\n",
    "graph.add_edge(START,'boundaryPercentage')\n",
    "graph.add_edge(START,'BallPerBoundary')\n",
    "\n",
    "\n",
    "graph.add_edge('strikeRate','summary')   \n",
    "graph.add_edge('boundaryPercentage','summary')  \n",
    "graph.add_edge('BallPerBoundary','summary')  \n",
    "graph.add_edge('summary',END)  \n"
   ]
  },
  {
   "cell_type": "markdown",
   "id": "952c2ef4",
   "metadata": {},
   "source": [
    "# step:4) compiling the graph"
   ]
  },
  {
   "cell_type": "code",
   "execution_count": 11,
   "id": "f13761c4",
   "metadata": {},
   "outputs": [
    {
     "data": {
      "image/png": "[encoded data removed]",
      "text/plain": [
       "<langgraph.graph.state.CompiledStateGraph object at 0x000001814A6F1900>"
      ]
     },
     "execution_count": 11,
     "metadata": {},
     "output_type": "execute_result"
    }
   ],
   "source": [
    "#now compiling the graph\n",
    "graph.compile()"
   ]
  },
  {
   "cell_type": "markdown",
   "id": "9463ab27",
   "metadata": {},
   "source": [
    "# step:5) executing the graph"
   ]
  },
  {
   "cell_type": "code",
   "execution_count": 12,
   "id": "37a015c3",
   "metadata": {},
   "outputs": [],
   "source": [
    "workflow = graph.compile()\n",
    "\n",
    "#defining initial state \n",
    "initial_state = BatsmanState(\n",
    "    runs=100,\n",
    "    balls=50,\n",
    "    fours=6,\n",
    "    sixes=4\n",
    "    )"
   ]
  },
  {
   "cell_type": "code",
   "execution_count": 13,
   "id": "b114e062",
   "metadata": {},
   "outputs": [
    {
     "data": {
      "text/plain": [
       "{'runs': 100,\n",
       " 'balls': 50,\n",
       " 'fours': 6,\n",
       " 'sixes': 4,\n",
       " 'strikerate': 200.0,\n",
       " 'ball_per_boundary': 833.3333333333334,\n",
       " 'boundary_percentage': 96.0,\n",
       " 'summary': \"In this inning, the player displayed an extremely aggressive batting style. With a strike rate of 200.0, they were scoring runs at a rapid pace. The high boundary percentage of 96.0% indicates that the player was consistently hitting boundaries, showcasing their ability to find gaps and clear the ropes frequently. Additionally, the low balls per boundary ratio of 833.33 suggests that the player was able to score boundaries quickly without taking too many deliveries to do so. Overall, this player's performance was characterized by aggressive and attacking batting.\"}"
      ]
     },
     "execution_count": 13,
     "metadata": {},
     "output_type": "execute_result"
    }
   ],
   "source": [
    "#exceuting the graph.\n",
    "result = workflow.invoke(initial_state)\n",
    "result"
   ]
  },
  {
   "cell_type": "code",
   "execution_count": 15,
   "id": "da025b65",
   "metadata": {},
   "outputs": [
    {
     "name": "stdout",
     "output_type": "stream",
     "text": [
      "In this inning, the player displayed an extremely aggressive batting style. With a strike rate of 200.0, they were scoring runs at a rapid pace. The high boundary percentage of 96.0% indicates that the player was consistently hitting boundaries, showcasing their ability to find gaps and clear the ropes frequently. Additionally, the low balls per boundary ratio of 833.33 suggests that the player was able to score boundaries quickly without taking too many deliveries to do so. Overall, this player's performance was characterized by aggressive and attacking batting.\n"
     ]
    }
   ],
   "source": [
    "print(result['summary'])"
   ]
  }
 ],
 "metadata": {
  "kernelspec": {
   "display_name": "hf-gpu",
   "language": "python",
   "name": "python3"
  },
  "language_info": {
   "codemirror_mode": {
    "name": "ipython",
    "version": 3
   },
   "file_extension": ".py",
   "mimetype": "text/x-python",
   "name": "python",
   "nbconvert_exporter": "python",
   "pygments_lexer": "ipython3",
   "version": "3.10.18"
  }
 },
 "nbformat": 4,
 "nbformat_minor": 5
}
