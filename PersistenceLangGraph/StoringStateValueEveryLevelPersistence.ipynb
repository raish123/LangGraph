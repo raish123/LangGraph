{
 "cells": [
  {
   "cell_type": "code",
   "execution_count": 1,
   "id": "245f9838",
   "metadata": {},
   "outputs": [
    {
     "data": {
      "text/plain": [
       "True"
      ]
     },
     "execution_count": 1,
     "metadata": {},
     "output_type": "execute_result"
    }
   ],
   "source": [
    "from langchain_groq import ChatGroq\n",
    "from langchain_openai import ChatOpenAI,OpenAIEmbeddings #this to above classes we used to interact with llm model.\n",
    "from dotenv import load_dotenv\n",
    "from langgraph.graph import StateGraph,END,START #this class we used to build stateful workflows in graphical form mei.\n",
    "from pydantic import BaseModel,Field,computed_field\n",
    "from typing import Annotated,List,Dict,TypedDict,Optional\n",
    "from langchain_core.output_parsers import PydanticOutputParser,StrOutputParser\n",
    "from langchain_core.prompts import PromptTemplate\n",
    "from langchain_huggingface import ChatHuggingFace,HuggingFaceEndpoint\n",
    "from typing import Literal,Optional\n",
    "from langchain_core.messages import AIMessage,HumanMessage,SystemMessage\n",
    "import operator\n",
    "from langgraph.graph.message import BaseMessage \n",
    "#above class is parent class this all AIMessage,HumanMessage,SystemMessage classes is child class inheriting property from parent\n",
    "#messages will automatically get handle.\n",
    "\n",
    "\n",
    "#using persistence class to store state or memory value in Ram or Database.\n",
    "from langgraph.checkpoint.memory import InMemorySaver\n",
    "\n",
    "load_dotenv()"
   ]
  },
  {
   "cell_type": "markdown",
   "id": "5383f0db",
   "metadata": {},
   "source": [
    "# Using Persistence to store Memory State "
   ]
  },
  {
   "cell_type": "code",
   "execution_count": 2,
   "id": "0fcd04cc",
   "metadata": {},
   "outputs": [
    {
     "data": {
      "text/plain": [
       "<langgraph.checkpoint.memory.InMemorySaver at 0x1d0fec01540>"
      ]
     },
     "execution_count": 2,
     "metadata": {},
     "output_type": "execute_result"
    }
   ],
   "source": [
    "checkpointer = InMemorySaver()\n",
    "checkpointer"
   ]
  },
  {
   "cell_type": "markdown",
   "id": "6cfe6ea6",
   "metadata": {},
   "source": [
    "# step:1) defining the model objects class"
   ]
  },
  {
   "cell_type": "code",
   "execution_count": 3,
   "id": "cc566e67",
   "metadata": {},
   "outputs": [],
   "source": [
    "#Groq Model object\n",
    "model1 = ChatGroq(\n",
    "    model=\"groq/compound-mini\",\n",
    "    temperature=0.2\n",
    ")\n",
    "model1\n",
    "\n",
    "#openAI model object.\n",
    "model2 = ChatOpenAI(temperature=0.2)\n",
    "\n",
    "## Hugging Face endpoint define karo OPen source Model chat or Generation Model.\n",
    "llm = HuggingFaceEndpoint(\n",
    "    repo_id=\"mistralai/Mistral-7B-Instruct-v0.3\",\n",
    "    task=\"text-generation\",\n",
    "    max_new_tokens=512,\n",
    "    do_sample=False,\n",
    ")\n",
    "\n",
    "# Chat model object banao\n",
    "model3 = ChatHuggingFace(llm=llm)"
   ]
  },
  {
   "cell_type": "markdown",
   "id": "4ed1d5c7",
   "metadata": {},
   "source": [
    "# step:2) defining sequential workflow ke liye state or memory schema using typeddict futhure we r creating object of stategraph class"
   ]
  },
  {
   "cell_type": "code",
   "execution_count": 4,
   "id": "fbca9949",
   "metadata": {},
   "outputs": [],
   "source": [
    "class JokeState(TypedDict):\n",
    "    title : str\n",
    "    gen_joke : str | None\n",
    "    gen_expl : str | None\n",
    "    "
   ]
  },
  {
   "cell_type": "code",
   "execution_count": 5,
   "id": "bc8db725",
   "metadata": {},
   "outputs": [
    {
     "data": {
      "text/plain": [
       "<langgraph.graph.state.StateGraph at 0x1d0fec01ba0>"
      ]
     },
     "execution_count": 5,
     "metadata": {},
     "output_type": "execute_result"
    }
   ],
   "source": [
    "#creating an object of stategraph class.\n",
    "graph = StateGraph(JokeState)\n",
    "graph"
   ]
  },
  {
   "cell_type": "markdown",
   "id": "2b1e41a6",
   "metadata": {},
   "source": [
    "# creating workflow based on Goal"
   ]
  },
  {
   "cell_type": "code",
   "execution_count": 6,
   "id": "ade0288d",
   "metadata": {},
   "outputs": [],
   "source": [
    "#creating Generate_Joke node ke liye function.\n",
    "def Generate_Joke(state:JokeState) ->JokeState:\n",
    "    \n",
    "    parser = StrOutputParser()\n",
    "    \n",
    "    #fetching the topic from state class\n",
    "    topic = state['title']\n",
    "    \n",
    "    #creating a prompt template or structure instruction based on this topic.\n",
    "    prompt = PromptTemplate(\n",
    "        template=\"\"\"\n",
    "        You are an expert joke generator.  \n",
    "        Your task is to create a **funny joke** based strictly on the given topic: \"{topic}\".\n",
    "\n",
    "        Instructions:\n",
    "        1. Make the joke humorous, witty, and short (2-3 sentences max).  \n",
    "        2. Do not add anything extra outside the joke.  \n",
    "        3. The joke should be original and not copied.  \n",
    "        \n",
    "        \"\"\",\n",
    "        input_variables=['topic']\n",
    "        \n",
    "    )\n",
    "    \n",
    "    #passing the prompt to model. using sequential chain\n",
    "    chain = prompt | model1 | parser\n",
    "    \n",
    "    #invoking the chain.\n",
    "    result = chain.invoke({'topic':topic})\n",
    "    \n",
    "    #now updating the state the partial stae and returning back.\n",
    "    return {\n",
    "        'gen_joke':result\n",
    "    }\n",
    "    "
   ]
  },
  {
   "cell_type": "code",
   "execution_count": 7,
   "id": "4b830ee1",
   "metadata": {},
   "outputs": [],
   "source": [
    "#creating Generate_Explanation node ke liye function.\n",
    "def Generate_Explanation(state:JokeState) ->JokeState:\n",
    "    \n",
    "    parser = StrOutputParser()\n",
    "    \n",
    "    #fetching the topic from state class\n",
    "    topic = state['title']\n",
    "    joke = state['gen_joke']\n",
    "    \n",
    "    #creating a prompt template or structure instruction based on this topic.\n",
    "    prompt = PromptTemplate(\n",
    "        template=\"\"\"\n",
    "        You are an expert joke explanation.  \n",
    "        Your task is to provide Explantion of  **funny joke** based on the given Joke topic: \"{joke}\".\n",
    "\n",
    "        Instructions:\n",
    "        1. Make the Explanation of Joke to be short (2-3 sentences max).  \n",
    "        2. The Explanation should be original and not copied.  \n",
    "        \n",
    "        \"\"\",\n",
    "        input_variables=['joke']\n",
    "        \n",
    "    )\n",
    "    \n",
    "    #passing the prompt to model. using sequential chain\n",
    "    chain = prompt | model1 | parser\n",
    "    \n",
    "    #invoking the chain.\n",
    "    result = chain.invoke({'joke':joke})\n",
    "    \n",
    "    #now updating the state the partial stae and returning back.\n",
    "    return {\n",
    "        'gen_expl':result\n",
    "    }\n",
    "    "
   ]
  },
  {
   "cell_type": "code",
   "execution_count": 8,
   "id": "28daee40",
   "metadata": {},
   "outputs": [
    {
     "data": {
      "image/png": "[encoded data removed]",
      "text/plain": [
       "<langgraph.graph.state.CompiledStateGraph object at 0x000001D0FEC03EE0>"
      ]
     },
     "execution_count": 8,
     "metadata": {},
     "output_type": "execute_result"
    }
   ],
   "source": [
    "#adding the node to graph.\n",
    "graph.add_node(node=\"Generate_Joke\",action=Generate_Joke)\n",
    "graph.add_node(node=\"Generate_Explanation\",action=Generate_Explanation)\n",
    "\n",
    "\n",
    "\n",
    "#adding edges to graph\n",
    "graph.add_edge(START,'Generate_Joke')\n",
    "graph.add_edge('Generate_Joke','Generate_Explanation')\n",
    "graph.add_edge('Generate_Explanation',END)\n",
    "\n",
    "#compiling the graph.\n",
    "graph.compile()"
   ]
  },
  {
   "cell_type": "markdown",
   "id": "9d5a66d0",
   "metadata": {},
   "source": [
    "# step:4) defining the workflow and starting the execution of workflow providing initial state"
   ]
  },
  {
   "cell_type": "code",
   "execution_count": 9,
   "id": "d16d08e0",
   "metadata": {},
   "outputs": [
    {
     "data": {
      "text/plain": [
       "{'title': 'AI in India',\n",
       " 'gen_joke': 'Why did India\\'s AI model go to therapy? Because it was struggling to learn from its mistakes and kept predicting a \"server error\" in life. Now it\\'s trained to respond with \"naaah, chai peena hai\" to every problem!',\n",
       " 'gen_expl': 'The joke is funny because it personifies India\\'s AI model as struggling with self-improvement, much like humans do, and its \"therapy\" results in a humorous cultural twist. The punchline \"naaah, chai peena hai\" (no, let\\'s have tea) is a lighthearted, relatable response that Indians often use to deflect problems, implying the AI has learned to cope with issues in a uniquely human way. The joke blends tech and culture for comedic effect.'}"
      ]
     },
     "execution_count": 9,
     "metadata": {},
     "output_type": "execute_result"
    }
   ],
   "source": [
    "workflow = graph.compile(checkpointer=checkpointer)\n",
    "\n",
    "#calling the initial state by creating an object of that class.\n",
    "initial_state = JokeState(title=\"AI in India\")\n",
    "\n",
    "\n",
    "#now invoking the workflow passing the inital state throughout workflow.\n",
    "result = workflow.invoke(input=initial_state,config={\"configurable\": {\"thread_id\": \"1\"}})\n",
    "result"
   ]
  },
  {
   "cell_type": "markdown",
   "id": "d6858c3c",
   "metadata": {},
   "source": [
    "# if i want to show persistence saving the state throughout workflow or not."
   ]
  },
  {
   "cell_type": "code",
   "execution_count": 11,
   "id": "08ee8389",
   "metadata": {},
   "outputs": [
    {
     "data": {
      "text/plain": [
       "StateSnapshot(values={'title': 'AI in India', 'gen_joke': 'Why did India\\'s AI model go to therapy? Because it was struggling to learn from its mistakes and kept predicting a \"server error\" in life. Now it\\'s trained to respond with \"naaah, chai peena hai\" to every problem!', 'gen_expl': 'The joke is funny because it personifies India\\'s AI model as struggling with self-improvement, much like humans do, and its \"therapy\" results in a humorous cultural twist. The punchline \"naaah, chai peena hai\" (no, let\\'s have tea) is a lighthearted, relatable response that Indians often use to deflect problems, implying the AI has learned to cope with issues in a uniquely human way. The joke blends tech and culture for comedic effect.'}, next=(), config={'configurable': {'thread_id': '1', 'checkpoint_ns': '', 'checkpoint_id': '1f08b007-f090-6dc3-8002-3a61d98e6602'}}, metadata={'source': 'loop', 'step': 2, 'parents': {}}, created_at='2025-09-06T09:04:29.604601+00:00', parent_config={'configurable': {'thread_id': '1', 'checkpoint_ns': '', 'checkpoint_id': '1f08b007-e919-6759-8001-c330b7a00d3e'}}, tasks=(), interrupts=())"
      ]
     },
     "execution_count": 11,
     "metadata": {},
     "output_type": "execute_result"
    }
   ],
   "source": [
    "#iska faida yeh hai if i know the thread_id based on that we can fetch the chat history\n",
    "workflow.get_state(config={\"configurable\": {\"thread_id\": \"1\"}})"
   ]
  },
  {
   "cell_type": "markdown",
   "id": "526b4e8f",
   "metadata": {},
   "source": [
    "# to show intermediate state or start or final state value"
   ]
  },
  {
   "cell_type": "code",
   "execution_count": 12,
   "id": "db633242",
   "metadata": {},
   "outputs": [
    {
     "data": {
      "text/plain": [
       "[StateSnapshot(values={'title': 'AI in India', 'gen_joke': 'Why did India\\'s AI model go to therapy? Because it was struggling to learn from its mistakes and kept predicting a \"server error\" in life. Now it\\'s trained to respond with \"naaah, chai peena hai\" to every problem!', 'gen_expl': 'The joke is funny because it personifies India\\'s AI model as struggling with self-improvement, much like humans do, and its \"therapy\" results in a humorous cultural twist. The punchline \"naaah, chai peena hai\" (no, let\\'s have tea) is a lighthearted, relatable response that Indians often use to deflect problems, implying the AI has learned to cope with issues in a uniquely human way. The joke blends tech and culture for comedic effect.'}, next=(), config={'configurable': {'thread_id': '1', 'checkpoint_ns': '', 'checkpoint_id': '1f08b007-f090-6dc3-8002-3a61d98e6602'}}, metadata={'source': 'loop', 'step': 2, 'parents': {}}, created_at='2025-09-06T09:04:29.604601+00:00', parent_config={'configurable': {'thread_id': '1', 'checkpoint_ns': '', 'checkpoint_id': '1f08b007-e919-6759-8001-c330b7a00d3e'}}, tasks=(), interrupts=()),\n",
       " StateSnapshot(values={'title': 'AI in India', 'gen_joke': 'Why did India\\'s AI model go to therapy? Because it was struggling to learn from its mistakes and kept predicting a \"server error\" in life. Now it\\'s trained to respond with \"naaah, chai peena hai\" to every problem!'}, next=('Generate_Explanation',), config={'configurable': {'thread_id': '1', 'checkpoint_ns': '', 'checkpoint_id': '1f08b007-e919-6759-8001-c330b7a00d3e'}}, metadata={'source': 'loop', 'step': 1, 'parents': {}}, created_at='2025-09-06T09:04:28.821692+00:00', parent_config={'configurable': {'thread_id': '1', 'checkpoint_ns': '', 'checkpoint_id': '1f08b007-e1e6-6b77-8000-45ef100b01f5'}}, tasks=(PregelTask(id='2ef303d0-5014-8070-e7cf-23b073f5a5d3', name='Generate_Explanation', path=('__pregel_pull', 'Generate_Explanation'), error=None, interrupts=(), state=None, result={'gen_expl': 'The joke is funny because it personifies India\\'s AI model as struggling with self-improvement, much like humans do, and its \"therapy\" results in a humorous cultural twist. The punchline \"naaah, chai peena hai\" (no, let\\'s have tea) is a lighthearted, relatable response that Indians often use to deflect problems, implying the AI has learned to cope with issues in a uniquely human way. The joke blends tech and culture for comedic effect.'}),), interrupts=()),\n",
       " StateSnapshot(values={'title': 'AI in India'}, next=('Generate_Joke',), config={'configurable': {'thread_id': '1', 'checkpoint_ns': '', 'checkpoint_id': '1f08b007-e1e6-6b77-8000-45ef100b01f5'}}, metadata={'source': 'loop', 'step': 0, 'parents': {}}, created_at='2025-09-06T09:04:28.066904+00:00', parent_config={'configurable': {'thread_id': '1', 'checkpoint_ns': '', 'checkpoint_id': '1f08b007-e1e4-6433-bfff-ebd7dfc0ba06'}}, tasks=(PregelTask(id='c86198be-d998-620d-ab88-459eb37d6eb3', name='Generate_Joke', path=('__pregel_pull', 'Generate_Joke'), error=None, interrupts=(), state=None, result={'gen_joke': 'Why did India\\'s AI model go to therapy? Because it was struggling to learn from its mistakes and kept predicting a \"server error\" in life. Now it\\'s trained to respond with \"naaah, chai peena hai\" to every problem!'}),), interrupts=()),\n",
       " StateSnapshot(values={}, next=('__start__',), config={'configurable': {'thread_id': '1', 'checkpoint_ns': '', 'checkpoint_id': '1f08b007-e1e4-6433-bfff-ebd7dfc0ba06'}}, metadata={'source': 'input', 'step': -1, 'parents': {}}, created_at='2025-09-06T09:04:28.065899+00:00', parent_config=None, tasks=(PregelTask(id='ba599838-1611-86f2-0456-22ede5ed1773', name='__start__', path=('__pregel_pull', '__start__'), error=None, interrupts=(), state=None, result={'title': 'AI in India'}),), interrupts=())]"
      ]
     },
     "execution_count": 12,
     "metadata": {},
     "output_type": "execute_result"
    }
   ],
   "source": [
    "# if i want to show the history of state (for paticular thread_id)\n",
    "list(workflow.get_state_history(config={\"configurable\": {\"thread_id\": \"1\"}}))"
   ]
  },
  {
   "cell_type": "code",
   "execution_count": null,
   "id": "ac537f05",
   "metadata": {},
   "outputs": [],
   "source": []
  },
  {
   "cell_type": "markdown",
   "id": "45fd65b5",
   "metadata": {},
   "source": [
    "# again invoking the workflow with different thread_id"
   ]
  },
  {
   "cell_type": "code",
   "execution_count": 13,
   "id": "efe0874e",
   "metadata": {},
   "outputs": [
    {
     "data": {
      "text/plain": [
       "{'title': 'pasta',\n",
       " 'gen_joke': 'Why did the pasta go to therapy? It was feeling a little \"drained\" and had a lot of \"saucy\" issues to work through. Now it\\'s learning to \"twirl\" its problems away.',\n",
       " 'gen_expl': 'This joke plays on the double meanings of pasta-related terms, using \"drained\" (emotionally exhausted), \"saucy\" (both a pasta characteristic and impertinent), and \"twirl\" (both a pasta eating action and dealing with problems in a carefree way). The punchline cleverly connects pasta actions to emotional states, creating a humorous therapeutic journey. The joke requires a basic knowledge of pasta to appreciate the wordplay.'}"
      ]
     },
     "execution_count": 13,
     "metadata": {},
     "output_type": "execute_result"
    }
   ],
   "source": [
    "#now invoking the workflow passing the inital state throughout workflow.\n",
    "config2 = {\"configurable\": {\"thread_id\": \"2\"}}\n",
    "result2 = workflow.invoke(input={'title':\"pasta\"},config=config2)\n",
    "result2"
   ]
  },
  {
   "cell_type": "code",
   "execution_count": 14,
   "id": "8b363bd2",
   "metadata": {},
   "outputs": [
    {
     "data": {
      "text/plain": [
       "[StateSnapshot(values={'title': 'pasta', 'gen_joke': 'Why did the pasta go to therapy? It was feeling a little \"drained\" and had a lot of \"saucy\" issues to work through. Now it\\'s learning to \"twirl\" its problems away.', 'gen_expl': 'This joke plays on the double meanings of pasta-related terms, using \"drained\" (emotionally exhausted), \"saucy\" (both a pasta characteristic and impertinent), and \"twirl\" (both a pasta eating action and dealing with problems in a carefree way). The punchline cleverly connects pasta actions to emotional states, creating a humorous therapeutic journey. The joke requires a basic knowledge of pasta to appreciate the wordplay.'}, next=(), config={'configurable': {'thread_id': '2', 'checkpoint_ns': '', 'checkpoint_id': '1f08b01d-76cd-6891-8002-e0998656a9a5'}}, metadata={'source': 'loop', 'step': 2, 'parents': {}}, created_at='2025-09-06T09:14:07.394830+00:00', parent_config={'configurable': {'thread_id': '2', 'checkpoint_ns': '', 'checkpoint_id': '1f08b01d-6ff7-6120-8001-9da6f64362f2'}}, tasks=(), interrupts=()),\n",
       " StateSnapshot(values={'title': 'pasta', 'gen_joke': 'Why did the pasta go to therapy? It was feeling a little \"drained\" and had a lot of \"saucy\" issues to work through. Now it\\'s learning to \"twirl\" its problems away.'}, next=('Generate_Explanation',), config={'configurable': {'thread_id': '2', 'checkpoint_ns': '', 'checkpoint_id': '1f08b01d-6ff7-6120-8001-9da6f64362f2'}}, metadata={'source': 'loop', 'step': 1, 'parents': {}}, created_at='2025-09-06T09:14:06.677840+00:00', parent_config={'configurable': {'thread_id': '2', 'checkpoint_ns': '', 'checkpoint_id': '1f08b01d-6a62-69b6-8000-72bc4d98a3f4'}}, tasks=(PregelTask(id='16427968-b9d8-5c1b-91ef-a424ae0d49ea', name='Generate_Explanation', path=('__pregel_pull', 'Generate_Explanation'), error=None, interrupts=(), state=None, result={'gen_expl': 'This joke plays on the double meanings of pasta-related terms, using \"drained\" (emotionally exhausted), \"saucy\" (both a pasta characteristic and impertinent), and \"twirl\" (both a pasta eating action and dealing with problems in a carefree way). The punchline cleverly connects pasta actions to emotional states, creating a humorous therapeutic journey. The joke requires a basic knowledge of pasta to appreciate the wordplay.'}),), interrupts=()),\n",
       " StateSnapshot(values={'title': 'pasta'}, next=('Generate_Joke',), config={'configurable': {'thread_id': '2', 'checkpoint_ns': '', 'checkpoint_id': '1f08b01d-6a62-69b6-8000-72bc4d98a3f4'}}, metadata={'source': 'loop', 'step': 0, 'parents': {}}, created_at='2025-09-06T09:14:06.092126+00:00', parent_config={'configurable': {'thread_id': '2', 'checkpoint_ns': '', 'checkpoint_id': '1f08b01d-6a5d-610c-bfff-2cdbce24e00a'}}, tasks=(PregelTask(id='6546e84c-d83d-9827-1a45-49c885f67fcb', name='Generate_Joke', path=('__pregel_pull', 'Generate_Joke'), error=None, interrupts=(), state=None, result={'gen_joke': 'Why did the pasta go to therapy? It was feeling a little \"drained\" and had a lot of \"saucy\" issues to work through. Now it\\'s learning to \"twirl\" its problems away.'}),), interrupts=()),\n",
       " StateSnapshot(values={}, next=('__start__',), config={'configurable': {'thread_id': '2', 'checkpoint_ns': '', 'checkpoint_id': '1f08b01d-6a5d-610c-bfff-2cdbce24e00a'}}, metadata={'source': 'input', 'step': -1, 'parents': {}}, created_at='2025-09-06T09:14:06.090471+00:00', parent_config=None, tasks=(PregelTask(id='8050e413-6693-7b24-6844-7d023d1fe97f', name='__start__', path=('__pregel_pull', '__start__'), error=None, interrupts=(), state=None, result={'title': 'pasta'}),), interrupts=())]"
      ]
     },
     "execution_count": 14,
     "metadata": {},
     "output_type": "execute_result"
    }
   ],
   "source": [
    "# if i want to show the history of state (for paticular thread_id)\n",
    "list(workflow.get_state_history(config=config2))"
   ]
  },
  {
   "cell_type": "markdown",
   "id": "42115fd9",
   "metadata": {},
   "source": [
    "``` \n",
    "advantage of persistence we are achieving few advantages: \n",
    "1) implement short term memory\n",
    "2) we can overcome fault tolerance problem.\n",
    "3) add Human in the Loop (to pause or resume the workflow)\n",
    "4) time travel\n",
    "\n",
    "\n",
    "\n",
    "```"
   ]
  },
  {
   "cell_type": "markdown",
   "id": "eab9d043",
   "metadata": {},
   "source": []
  },
  {
   "cell_type": "code",
   "execution_count": null,
   "id": "8d83321d",
   "metadata": {},
   "outputs": [],
   "source": []
  },
  {
   "cell_type": "code",
   "execution_count": null,
   "id": "ae7c6f9a",
   "metadata": {},
   "outputs": [],
   "source": []
  },
  {
   "cell_type": "code",
   "execution_count": null,
   "id": "47307261",
   "metadata": {},
   "outputs": [],
   "source": []
  },
  {
   "cell_type": "code",
   "execution_count": null,
   "id": "8c601215",
   "metadata": {},
   "outputs": [],
   "source": []
  }
 ],
 "metadata": {
  "kernelspec": {
   "display_name": "hf-gpu",
   "language": "python",
   "name": "python3"
  },
  "language_info": {
   "codemirror_mode": {
    "name": "ipython",
    "version": 3
   },
   "file_extension": ".py",
   "mimetype": "text/x-python",
   "name": "python",
   "nbconvert_exporter": "python",
   "pygments_lexer": "ipython3",
   "version": "3.10.18"
  }
 },
 "nbformat": 4,
 "nbformat_minor": 5
}
