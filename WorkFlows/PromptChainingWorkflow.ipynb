{
 "cells": [
  {
   "cell_type": "code",
   "execution_count": 1,
   "id": "0eb5bb41",
   "metadata": {},
   "outputs": [
    {
     "data": {
      "text/plain": [
       "True"
      ]
     },
     "execution_count": 1,
     "metadata": {},
     "output_type": "execute_result"
    }
   ],
   "source": [
    "from langchain_groq import ChatGroq\n",
    "from langchain_openai import ChatOpenAI,OpenAIEmbeddings #this to above classes we used to interact with llm model.\n",
    "from dotenv import load_dotenv\n",
    "from langgraph.graph import StateGraph,END,START #this class we used to build stateful workflows in graphical form mei.\n",
    "from pydantic import BaseModel,Field,computed_field\n",
    "from typing import Annotated,List,Dict,TypedDict,Optional\n",
    "\n",
    "load_dotenv()"
   ]
  },
  {
   "cell_type": "markdown",
   "id": "c3023913",
   "metadata": {},
   "source": [
    "```\n",
    "🔹 Prompt Chaining – Simple language me\n",
    "Prompt chaining ka matlab hai → ek LLM ka output ko doosre LLM (ya prompt) ke input me dena.\n",
    "Isse hum ek multi-step reasoning pipeline banate hain.\n",
    "Har step ek node hota hai (jaise LangGraph me nodes), aur ek node ka nikalne wala result agle node ke input me jata hai.\n",
    "\n",
    "usually kab used karte(Prompt Chaining) hai jab user query ko model mei dekar sahi structure(english) mei define karna hai \n",
    "fir usko model2 as prompt bhejkar response user ko dikhate hai\n",
    "```"
   ]
  },
  {
   "cell_type": "markdown",
   "id": "4d57f15c",
   "metadata": {},
   "source": [
    "# step:1) defining llm model object"
   ]
  },
  {
   "cell_type": "code",
   "execution_count": 2,
   "id": "c754f406",
   "metadata": {},
   "outputs": [],
   "source": [
    "from langchain_huggingface import ChatHuggingFace,HuggingFaceEndpoint\n",
    "\n",
    "\n",
    "#first we have to define kon se HuggingFaceEndpoint pe API Request jayeghi\n",
    "# Hugging Face endpoint define karo\n",
    "llm = HuggingFaceEndpoint(\n",
    "    repo_id=\"mistralai/Mistral-7B-Instruct-v0.3\",\n",
    "    task=\"text-generation\",\n",
    "    max_new_tokens=512,\n",
    "    do_sample=False,\n",
    ")\n",
    "\n",
    "# Chat model object banao\n",
    "model1 = ChatHuggingFace(llm=llm)\n",
    "model2 = ChatOpenAI(temperature=0.2)"
   ]
  },
  {
   "cell_type": "markdown",
   "id": "1a2ee1f0",
   "metadata": {},
   "source": [
    "# step:2) defining state or memory class by using pydantic after then creating stategraph class object"
   ]
  },
  {
   "cell_type": "code",
   "execution_count": 3,
   "id": "ef9ac9db",
   "metadata": {},
   "outputs": [],
   "source": [
    "class BlogContentState(BaseModel):\n",
    "    title : str = Field(...,description=\"Taking the blog title from user\")\n",
    "    outline : Optional[str] =  Field(None,description=\"Based on User Title generating Blog Outline\")\n",
    "    blog : Optional[str] =  Field(None,description=\"Blog content\")"
   ]
  },
  {
   "cell_type": "code",
   "execution_count": 4,
   "id": "046658fd",
   "metadata": {},
   "outputs": [
    {
     "data": {
      "text/plain": [
       "<langgraph.graph.state.StateGraph at 0x1e094370e50>"
      ]
     },
     "execution_count": 4,
     "metadata": {},
     "output_type": "execute_result"
    }
   ],
   "source": [
    "#creating stategraph class object.\n",
    "graph = StateGraph(BlogContentState)\n",
    "graph"
   ]
  },
  {
   "cell_type": "code",
   "execution_count": 5,
   "id": "7ca80d4c",
   "metadata": {},
   "outputs": [],
   "source": [
    "from langchain_core.output_parsers import StrOutputParser\n",
    "from langchain_core.prompts import PromptTemplate\n",
    "parser = StrOutputParser()"
   ]
  },
  {
   "cell_type": "code",
   "execution_count": 6,
   "id": "0a34b790",
   "metadata": {},
   "outputs": [],
   "source": [
    "#reducer function this node perform action based on task\n",
    "def LLM_outline_Blog(state:BlogContentState) -> BlogContentState:\n",
    "    #fetching the variable from BlogContentState object.\n",
    "    title = state.title #provide by user\n",
    "    \n",
    "    \n",
    "    #creating structure instruction prompt based on title\n",
    "    prompt1 = PromptTemplate(\n",
    "    template=\"\"\"\n",
    "    You are a helpful assistant.\n",
    "    Please provide a Blog Outline to the following title:\n",
    "\n",
    "    title: {title}\"\"\",\n",
    "    input_variables=[\"title\"])\n",
    "    \n",
    "    \n",
    "    #creating seq chain to perform action\n",
    "    chain1 = prompt1 | model1 | parser\n",
    "    \n",
    "    #calling or involing the chain\n",
    "    outline = chain1.invoke({'title': title})\n",
    "    \n",
    "    #updating this outline to BlogContentState object.\n",
    "    state.outline = outline\n",
    "    \n",
    "    return state #updated state.\n",
    "    "
   ]
  },
  {
   "cell_type": "code",
   "execution_count": 7,
   "id": "f7c113f6",
   "metadata": {},
   "outputs": [],
   "source": [
    "#reducer function this node2 perform action based on task\n",
    "def Outline_to_Blog(state:BlogContentState) -> BlogContentState:\n",
    "    #fetching the variable from BlogContentState object.\n",
    "    outline = state.outline #provide by user\n",
    "    title = state.title\n",
    "    \n",
    "    \n",
    "    #creating structure instruction prompt based on title\n",
    "    # Prompt for blog content\n",
    "    blog_prompt = PromptTemplate(\n",
    "        template=\"\"\"\n",
    "        You are a professional content writer.\n",
    "        Using the provided title and outline, write a complete blog article in Summarize Manner.\n",
    "        Make sure the blog is engaging, well-organized, and easy to read.\n",
    "\n",
    "        Title: {title}\n",
    "\n",
    "        Outline:\n",
    "        {outline}\n",
    "\n",
    "        Blog:\n",
    "        \"\"\",\n",
    "        input_variables=[\"title\", \"outline\"]\n",
    "    )\n",
    "\n",
    "    \n",
    "    \n",
    "    #creating seq chain to perform action\n",
    "    chain2 = blog_prompt | model2 | parser\n",
    "    \n",
    "    #calling or involing the chain\n",
    "    blog = chain2.invoke({'title': title,\"outline\":outline})\n",
    "    \n",
    "    #updating this outline to BlogContentState object.\n",
    "    state.blog = blog\n",
    "    \n",
    "    return state #updated state.\n",
    "    "
   ]
  },
  {
   "cell_type": "markdown",
   "id": "c9102e5b",
   "metadata": {},
   "source": [
    "# step:3) now adding nodes and edges to graph"
   ]
  },
  {
   "cell_type": "code",
   "execution_count": 8,
   "id": "ddd21984",
   "metadata": {},
   "outputs": [
    {
     "data": {
      "text/plain": [
       "<langgraph.graph.state.StateGraph at 0x1e094370e50>"
      ]
     },
     "execution_count": 8,
     "metadata": {},
     "output_type": "execute_result"
    }
   ],
   "source": [
    "graph.add_node(\"LLM_outline_Blog\",LLM_outline_Blog)\n",
    "graph.add_node(\"Outline_to_Blog\",Outline_to_Blog)\n",
    "\n",
    "\n",
    "#connecting the node with edges\n",
    "graph.add_edge(START,\"LLM_outline_Blog\")\n",
    "graph.add_edge(\"LLM_outline_Blog\",\"Outline_to_Blog\")\n",
    "graph.add_edge(\"Outline_to_Blog\",END)\n",
    "\n"
   ]
  },
  {
   "cell_type": "markdown",
   "id": "50f035f5",
   "metadata": {},
   "source": [
    "# step:4) #compiling the graph and showing graph workflow"
   ]
  },
  {
   "cell_type": "code",
   "execution_count": 13,
   "id": "7c347887",
   "metadata": {},
   "outputs": [],
   "source": [
    "workflow = graph.compile()"
   ]
  },
  {
   "cell_type": "code",
   "execution_count": 14,
   "id": "d6d6b2c0",
   "metadata": {},
   "outputs": [
    {
     "data": {
      "text/plain": [
       "{'title': 'Artificial Intelligence',\n",
       " 'outline': \" Title: Artificial Intelligence\\n\\n1. Introduction\\n   - Brief overview of Artificial Intelligence (AI)\\n   - Importance and relevance of AI in today's world\\n\\n2. History of Artificial Intelligence\\n   - Timeline of AI development\\n   - Key milestones and pioneers in AI history\\n\\n3. Types of Artificial Intelligence\\n   - Explanation of different types of AI: Narrow AI, General AI, and Superintelligent AI\\n   - Real-world examples of each type\\n\\n4. Machine Learning and Deep Learning\\n   - Explanation of Machine Learning and Deep Learning\\n   - Differences between the two and their applications in AI\\n\\n5. AI in Everyday Life\\n   - Examples of AI in consumer products, services, and entertainment\\n   - Discussion on the impact of AI on daily routines\\n\\n6. AI in Business and Industry\\n   - Explanation of AI's role in various industries such as healthcare, finance, and manufacturing\\n   - Case studies of successful AI implementations in businesses\\n\\n7. Ethical Considerations of Artificial Intelligence\\n   - Discussion on the ethical implications of AI, including privacy concerns, job displacement, and AI bias\\n   - Strategies for ensuring ethical AI development and use\\n\\n8. The Future of Artificial Intelligence\\n   - Predictions for the future development of AI\\n   - Potential challenges and opportunities in the AI landscape\\n\\n9. Conclusion\\n   - Recap of the importance and impact of AI\\n   - Final thoughts on the future of AI and its role in shaping our world\\n\\n10. References\\n   - Citing sources used in the blog post\\n   - Additional resources for further reading on AI\",\n",
       " 'blog': 'Title: Artificial Intelligence\\n\\nIntroduction\\nArtificial Intelligence (AI) is a rapidly evolving technology that has become increasingly important in today\\'s world. From improving efficiency in businesses to enhancing everyday life, AI has a wide range of applications that continue to shape our future.\\n\\nHistory of Artificial Intelligence\\nThe development of AI can be traced back to the 1950s, with key milestones such as the creation of the first AI program and the development of neural networks. Pioneers in AI history include Alan Turing, John McCarthy, and Marvin Minsky, who laid the foundation for the field.\\n\\nTypes of Artificial Intelligence\\nThere are three main types of AI: Narrow AI, General AI, and Superintelligent AI. Narrow AI is focused on specific tasks, while General AI aims to mimic human intelligence. Superintelligent AI surpasses human intelligence and is still a theoretical concept. Real-world examples include virtual assistants like Siri, self-driving cars, and advanced chess-playing programs.\\n\\nMachine Learning and Deep Learning\\nMachine Learning and Deep Learning are subsets of AI that focus on training machines to learn from data. Machine Learning uses algorithms to make predictions, while Deep Learning involves neural networks to mimic the human brain. These technologies have applications in various fields, from healthcare to finance.\\n\\nAI in Everyday Life\\nAI is present in consumer products like smart home devices, services like personalized recommendations, and entertainment like streaming platforms. Its impact on daily routines is evident in the convenience it provides and the efficiency it brings to tasks.\\n\\nAI in Business and Industry\\nBusinesses across industries are leveraging AI to improve processes, increase productivity, and drive innovation. Case studies show successful implementations of AI in healthcare for diagnosis, finance for fraud detection, and manufacturing for predictive maintenance.\\n\\nEthical Considerations of Artificial Intelligence\\nAs AI becomes more prevalent, ethical concerns arise regarding privacy, job displacement, and bias in algorithms. Strategies for ensuring ethical AI development include transparency, accountability, and diversity in AI teams.\\n\\nThe Future of Artificial Intelligence\\nThe future of AI holds promises of advancements in healthcare, transportation, and other sectors. Challenges such as regulation, data privacy, and societal impact need to be addressed to harness the full potential of AI.\\n\\nConclusion\\nAI continues to play a crucial role in shaping our world, with its impact felt in various aspects of society. As we look towards the future, it is essential to consider the ethical implications and opportunities that AI presents for a better tomorrow.\\n\\nReferences\\n- \"Artificial Intelligence: A Modern Approach\" by Stuart Russell and Peter Norvig\\n- \"Deep Learning\" by Ian Goodfellow, Yoshua Bengio, and Aaron Courville\\n- Additional resources available at www.ai.org for further reading on AI advancements.'}"
      ]
     },
     "execution_count": 14,
     "metadata": {},
     "output_type": "execute_result"
    }
   ],
   "source": [
    "#invoking the workflow.\n",
    "initial_state = BlogContentState(title=\"Artificial Intelligence\")\n",
    "final_state = workflow.invoke(initial_state)\n",
    "final_state"
   ]
  },
  {
   "cell_type": "code",
   "execution_count": 15,
   "id": "3d5e010b",
   "metadata": {},
   "outputs": [
    {
     "name": "stdout",
     "output_type": "stream",
     "text": [
      "Title: Artificial Intelligence\n",
      "\n",
      "Introduction\n",
      "Artificial Intelligence (AI) is a rapidly evolving technology that has become increasingly important in today's world. From improving efficiency in businesses to enhancing everyday life, AI has a wide range of applications that continue to shape our future.\n",
      "\n",
      "History of Artificial Intelligence\n",
      "The development of AI can be traced back to the 1950s, with key milestones such as the creation of the first AI program and the development of neural networks. Pioneers in AI history include Alan Turing, John McCarthy, and Marvin Minsky, who laid the foundation for the field.\n",
      "\n",
      "Types of Artificial Intelligence\n",
      "There are three main types of AI: Narrow AI, General AI, and Superintelligent AI. Narrow AI is focused on specific tasks, while General AI aims to mimic human intelligence. Superintelligent AI surpasses human intelligence and is still a theoretical concept. Real-world examples include virtual assistants like Siri, self-driving cars, and advanced chess-playing programs.\n",
      "\n",
      "Machine Learning and Deep Learning\n",
      "Machine Learning and Deep Learning are subsets of AI that focus on training machines to learn from data. Machine Learning uses algorithms to make predictions, while Deep Learning involves neural networks to mimic the human brain. These technologies have applications in various fields, from healthcare to finance.\n",
      "\n",
      "AI in Everyday Life\n",
      "AI is present in consumer products like smart home devices, services like personalized recommendations, and entertainment like streaming platforms. Its impact on daily routines is evident in the convenience it provides and the efficiency it brings to tasks.\n",
      "\n",
      "AI in Business and Industry\n",
      "Businesses across industries are leveraging AI to improve processes, increase productivity, and drive innovation. Case studies show successful implementations of AI in healthcare for diagnosis, finance for fraud detection, and manufacturing for predictive maintenance.\n",
      "\n",
      "Ethical Considerations of Artificial Intelligence\n",
      "As AI becomes more prevalent, ethical concerns arise regarding privacy, job displacement, and bias in algorithms. Strategies for ensuring ethical AI development include transparency, accountability, and diversity in AI teams.\n",
      "\n",
      "The Future of Artificial Intelligence\n",
      "The future of AI holds promises of advancements in healthcare, transportation, and other sectors. Challenges such as regulation, data privacy, and societal impact need to be addressed to harness the full potential of AI.\n",
      "\n",
      "Conclusion\n",
      "AI continues to play a crucial role in shaping our world, with its impact felt in various aspects of society. As we look towards the future, it is essential to consider the ethical implications and opportunities that AI presents for a better tomorrow.\n",
      "\n",
      "References\n",
      "- \"Artificial Intelligence: A Modern Approach\" by Stuart Russell and Peter Norvig\n",
      "- \"Deep Learning\" by Ian Goodfellow, Yoshua Bengio, and Aaron Courville\n",
      "- Additional resources available at www.ai.org for further reading on AI advancements.\n"
     ]
    }
   ],
   "source": [
    "print(final_state['blog'])"
   ]
  }
 ],
 "metadata": {
  "kernelspec": {
   "display_name": "hf-gpu",
   "language": "python",
   "name": "python3"
  },
  "language_info": {
   "codemirror_mode": {
    "name": "ipython",
    "version": 3
   },
   "file_extension": ".py",
   "mimetype": "text/x-python",
   "name": "python",
   "nbconvert_exporter": "python",
   "pygments_lexer": "ipython3",
   "version": "3.10.18"
  }
 },
 "nbformat": 4,
 "nbformat_minor": 5
}
