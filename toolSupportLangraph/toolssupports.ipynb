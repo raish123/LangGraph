{
 "cells": [
  {
   "cell_type": "code",
   "execution_count": 1,
   "id": "7ab5559c",
   "metadata": {},
   "outputs": [],
   "source": [
    "from langchain_groq import ChatGroq\n",
    "from langchain_openai import ChatOpenAI,OpenAIEmbeddings #this to above classes we used to interact with llm model.\n",
    "from dotenv import load_dotenv\n",
    "from langgraph.graph import StateGraph,END,START #this class we used to build stateful workflows in graphical form mei.\n",
    "from pydantic import BaseModel,Field,computed_field\n",
    "from typing import Annotated,List,Dict,TypedDict,Optional\n",
    "from langchain_core.output_parsers import PydanticOutputParser,StrOutputParser\n",
    "from langchain_core.prompts import PromptTemplate\n",
    "from langchain_huggingface import ChatHuggingFace,HuggingFaceEndpoint\n",
    "from typing import Literal,Optional\n",
    "from langchain_core.messages import AIMessage,HumanMessage,SystemMessage\n",
    "from langgraph.graph.message import BaseMessage #this parent class of all message class.\n",
    "import operator\n",
    "from langchain.utilities import SerpAPIWrapper #using this class we performing search operation\n",
    "\n",
    "#To save state memory or intermediate level shared Memory throughout the workflow in Database \n",
    "from langgraph.checkpoint.sqlite import SqliteSaver\n",
    "import sqlite3\n",
    "import requests\n",
    "import random\n",
    "\n",
    "from langsmith import traceable\n",
    "\n",
    "#initializing the project name which can be seen in Langsmith website.\n",
    "import os\n",
    "os.environ['LANGCHAIN_PROJECT'] = \"CHATBOT USING TOOL MONITORING\"\n"
   ]
  },
  {
   "cell_type": "code",
   "execution_count": 2,
   "id": "2ad2c205",
   "metadata": {},
   "outputs": [],
   "source": [
    "#loading all the environment file.\n",
    "load_dotenv()\n",
    "\n",
    "\n",
    "#openAI model object.\n",
    "model1 = ChatOpenAI(temperature=0, model_name=\"gpt-3.5-turbo\")\n",
    "\n",
    "from langchain_core.tools import tool"
   ]
  },
  {
   "cell_type": "code",
   "execution_count": 3,
   "id": "caebe1c7",
   "metadata": {},
   "outputs": [],
   "source": [
    "api_key = os.getenv(\"SERPAPI_API_KEY\")"
   ]
  },
  {
   "cell_type": "code",
   "execution_count": 4,
   "id": "e2fbdec1",
   "metadata": {},
   "outputs": [],
   "source": [
    "\n",
    "from langchain.agents import  Tool\n",
    "\n",
    "\n",
    "# Google search tool\n",
    "from langchain.utilities import SerpAPIWrapper\n",
    "api_key = os.getenv(\"SERPAPI_API_KEY\")\n",
    "search = SerpAPIWrapper(serpapi_api_key=api_key)\n",
    "\n",
    "search_tool = Tool(\n",
    "    name=\"GoogleSearch\",\n",
    "    func=search.run,\n",
    "    description=\"Search the web to answer questions\"\n",
    ")\n",
    "\n",
    "# Calculator tool\n",
    "def calculator(first_num: float, second_num: float, operation: str) -> dict:\n",
    "    try:\n",
    "        if operation == \"add\": result = first_num + second_num\n",
    "        elif operation == \"sub\": result = first_num - second_num\n",
    "        elif operation == \"mul\": result = first_num * second_num\n",
    "        elif operation == \"div\": result = first_num / second_num if second_num != 0 else \"Division by zero\"\n",
    "        else: return {\"error\": f\"Unsupported operation {operation}\"}\n",
    "        return {\"first_num\": first_num, \"second_num\": second_num, \"operation\": operation, \"result\": result}\n",
    "    except Exception as e:\n",
    "        return {\"error\": str(e)}\n",
    "\n",
    "calc_tool = Tool(\n",
    "    name=\"Calculator\",\n",
    "    func=calculator,\n",
    "    description=\"Perform basic arithmetic: add, sub, mul, div\"\n",
    ")\n",
    "\n",
    "# Stock price tool\n",
    "import requests\n",
    "def get_stock_price(symbol: str) -> dict:\n",
    "    url = f'https://www.alphavantage.co/query?function=GLOBAL_QUOTE&symbol={symbol}&apikey=1PPNPDOMK62HNKRO'\n",
    "    return requests.get(url).json()\n",
    "\n",
    "stock_tool = Tool(\n",
    "    name=\"StockPrice\",\n",
    "    func=get_stock_price,\n",
    "    description=\"Fetch latest stock price for a given symbol\"\n",
    ")\n",
    "\n"
   ]
  },
  {
   "cell_type": "code",
   "execution_count": 5,
   "id": "3d5c4459",
   "metadata": {},
   "outputs": [
    {
     "data": {
      "text/plain": [
       "[Tool(name='GoogleSearch', description='Search the web to answer questions', func=<bound method SerpAPIWrapper.run of SerpAPIWrapper(search_engine=<class 'serpapi.google_search.GoogleSearch'>, params={'engine': 'google', 'google_domain': 'google.com', 'gl': 'us', 'hl': 'en'}, serpapi_api_key='2a51db69f30b5e46589cd89d12929fc47fa8f2fcf2609210d953ac20cc6c3a0b', aiosession=None)>),\n",
       " Tool(name='Calculator', description='Perform basic arithmetic: add, sub, mul, div', func=<function calculator at 0x0000021437688CA0>),\n",
       " Tool(name='StockPrice', description='Fetch latest stock price for a given symbol', func=<function get_stock_price at 0x000002143BBA3880>)]"
      ]
     },
     "execution_count": 5,
     "metadata": {},
     "output_type": "execute_result"
    }
   ],
   "source": [
    "#lst of tool object\n",
    "tools = [search_tool,calc_tool,stock_tool] \n",
    "tools\n"
   ]
  },
  {
   "cell_type": "code",
   "execution_count": 6,
   "id": "8e4e5ebe",
   "metadata": {},
   "outputs": [
    {
     "data": {
      "text/plain": [
       "RunnableBinding(bound=ChatOpenAI(client=<openai.resources.chat.completions.completions.Completions object at 0x00000214377F59C0>, async_client=<openai.resources.chat.completions.completions.AsyncCompletions object at 0x000002143BB87BB0>, root_client=<openai.OpenAI object at 0x00000214377F4070>, root_async_client=<openai.AsyncOpenAI object at 0x000002143BB87B20>, temperature=0.0, model_kwargs={}, openai_api_key=SecretStr('**********')), kwargs={'tools': [{'type': 'function', 'function': {'name': 'GoogleSearch', 'description': 'Search the web to answer questions', 'parameters': {'properties': {'__arg1': {'title': '__arg1', 'type': 'string'}}, 'required': ['__arg1'], 'type': 'object'}}}, {'type': 'function', 'function': {'name': 'Calculator', 'description': 'Perform basic arithmetic: add, sub, mul, div', 'parameters': {'properties': {'__arg1': {'title': '__arg1', 'type': 'string'}}, 'required': ['__arg1'], 'type': 'object'}}}, {'type': 'function', 'function': {'name': 'StockPrice', 'description': 'Fetch latest stock price for a given symbol', 'parameters': {'properties': {'__arg1': {'title': '__arg1', 'type': 'string'}}, 'required': ['__arg1'], 'type': 'object'}}}]}, config={}, config_factories=[])"
      ]
     },
     "execution_count": 6,
     "metadata": {},
     "output_type": "execute_result"
    }
   ],
   "source": [
    "#binding the chatmodel with tool\n",
    "llm_with_tools = model1.bind_tools(tools)\n",
    "llm_with_tools"
   ]
  },
  {
   "cell_type": "code",
   "execution_count": 7,
   "id": "577fedd3",
   "metadata": {},
   "outputs": [],
   "source": [
    "#defining state schema for chatbot.\n",
    "from langgraph.graph.message import add_messages\n",
    "class ChatbotState(TypedDict):\n",
    "    message : Annotated[list[BaseMessage], add_messages] \n"
   ]
  },
  {
   "cell_type": "code",
   "execution_count": 8,
   "id": "3553c1c6",
   "metadata": {},
   "outputs": [
    {
     "data": {
      "text/plain": [
       "<langgraph.graph.state.StateGraph at 0x2143bbf6050>"
      ]
     },
     "execution_count": 8,
     "metadata": {},
     "output_type": "execute_result"
    }
   ],
   "source": [
    "#creating a graph object by using stategraph class.\n",
    "graph = StateGraph(ChatbotState)\n",
    "graph"
   ]
  },
  {
   "cell_type": "code",
   "execution_count": 9,
   "id": "3f1dfc29",
   "metadata": {},
   "outputs": [],
   "source": [
    "def chat_node(state: ChatbotState):\n",
    "    messages = state[\"message\"]\n",
    "    print(\"Messages received:\", messages)\n",
    "    response = llm_with_tools.invoke(messages)  # or {\"message\": messages}\n",
    "    print(\"Response:\", response)\n",
    "    return {\"message\": messages + [AIMessage(content=response)]}"
   ]
  },
  {
   "cell_type": "code",
   "execution_count": 10,
   "id": "2f1ad009",
   "metadata": {},
   "outputs": [],
   "source": [
    "from langgraph.prebuilt import ToolNode\n",
    "tool_node = ToolNode(tools)"
   ]
  },
  {
   "cell_type": "code",
   "execution_count": 11,
   "id": "1f35aacc",
   "metadata": {},
   "outputs": [],
   "source": [
    "# ✅ Tool condition logic\n",
    "def tools_condition(state: ChatbotState, tool_name: str) -> bool:\n",
    "    messages = state[\"message\"]\n",
    "    last_message = messages[-1].content.lower()\n",
    "    print(last_message)\n",
    "    \n",
    "    if tool_name == \"GoogleSearch\":\n",
    "        return \"search\" in last_message or \"find\" in last_message or \"google\" in last_message\n",
    "    elif tool_name == \"Calculator\":\n",
    "        return any(op in last_message for op in [\"add\", \"subtract\", \"multiply\", \"divide\"])\n",
    "    elif tool_name == \"StockPrice\":\n",
    "        return \"stock\" in last_message and \"price\" in last_message\n",
    "    else:\n",
    "        return False"
   ]
  },
  {
   "cell_type": "code",
   "execution_count": 12,
   "id": "43c3d07e",
   "metadata": {},
   "outputs": [
    {
     "data": {
      "text/plain": [
       "<langgraph.graph.state.StateGraph at 0x2143bbf6050>"
      ]
     },
     "execution_count": 12,
     "metadata": {},
     "output_type": "execute_result"
    }
   ],
   "source": [
    "#graph mei nodes or edges add karne se phele mujhe ek memorysaver object banana padegha.\n",
    "graph.add_node(node=\"chat_node\",action=chat_node)\n",
    "graph.add_node(node=\"tools\",action=tool_node)\n"
   ]
  },
  {
   "cell_type": "code",
   "execution_count": 13,
   "id": "6d8f9309",
   "metadata": {},
   "outputs": [],
   "source": [
    "from langgraph.prebuilt import tools_condition #based on tool condition either map to ends node or tool node"
   ]
  },
  {
   "cell_type": "code",
   "execution_count": 14,
   "id": "df69c470",
   "metadata": {},
   "outputs": [
    {
     "data": {
      "text/plain": [
       "<langgraph.graph.state.StateGraph at 0x2143bbf6050>"
      ]
     },
     "execution_count": 14,
     "metadata": {},
     "output_type": "execute_result"
    }
   ],
   "source": [
    "#now adding the edges to graph.\n",
    "graph.add_edge(START,\"chat_node\")\n",
    "graph.add_conditional_edges('chat_node',tools_condition)\n"
   ]
  },
  {
   "cell_type": "code",
   "execution_count": 15,
   "id": "32f2ed17",
   "metadata": {},
   "outputs": [
    {
     "data": {
      "image/png": "[encoded data removed]",
      "text/plain": [
       "<langgraph.graph.state.CompiledStateGraph object at 0x000002143C15F700>"
      ]
     },
     "execution_count": 15,
     "metadata": {},
     "output_type": "execute_result"
    }
   ],
   "source": [
    "chatbot = graph.compile()\n",
    "chatbot\n"
   ]
  },
  {
   "cell_type": "code",
   "execution_count": null,
   "id": "c6bae740",
   "metadata": {},
   "outputs": [],
   "source": []
  },
  {
   "cell_type": "code",
   "execution_count": null,
   "id": "2a07f2c1",
   "metadata": {},
   "outputs": [],
   "source": []
  },
  {
   "cell_type": "code",
   "execution_count": null,
   "id": "c2ad3dfd",
   "metadata": {},
   "outputs": [],
   "source": []
  }
 ],
 "metadata": {
  "kernelspec": {
   "display_name": "hf-gpu",
   "language": "python",
   "name": "python3"
  },
  "language_info": {
   "codemirror_mode": {
    "name": "ipython",
    "version": 3
   },
   "file_extension": ".py",
   "mimetype": "text/x-python",
   "name": "python",
   "nbconvert_exporter": "python",
   "pygments_lexer": "ipython3",
   "version": "3.10.18"
  }
 },
 "nbformat": 4,
 "nbformat_minor": 5
}
