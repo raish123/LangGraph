{
 "cells": [
  {
   "cell_type": "code",
   "execution_count": 1,
   "id": "547fadd3",
   "metadata": {},
   "outputs": [
    {
     "data": {
      "text/plain": [
       "True"
      ]
     },
     "execution_count": 1,
     "metadata": {},
     "output_type": "execute_result"
    }
   ],
   "source": [
    "from langchain_groq import ChatGroq\n",
    "from langchain_openai import ChatOpenAI,OpenAIEmbeddings #this to above classes we used to interact with llm model.\n",
    "from dotenv import load_dotenv\n",
    "from langgraph.graph import StateGraph,END,START #this class we used to build stateful workflows in graphical form mei.\n",
    "from pydantic import BaseModel,Field,computed_field\n",
    "from typing import Annotated,List,Dict,TypedDict,Optional\n",
    "from langchain_core.output_parsers import PydanticOutputParser,StrOutputParser\n",
    "from langchain_core.prompts import PromptTemplate\n",
    "from langchain_huggingface import ChatHuggingFace,HuggingFaceEndpoint\n",
    "from typing import Literal,Optional\n",
    "from langchain_core.messages import AIMessage,HumanMessage,SystemMessage\n",
    "import operator\n",
    "from langgraph.graph.message import BaseMessage \n",
    "#above class is parent class this all AIMessage,HumanMessage,SystemMessage classes is child class inheriting property from parent\n",
    "#messages will automatically get handle.\n",
    "\n",
    "\n",
    "#using persistence class to store state or memory value in Ram or Database.\n",
    "from langgraph.checkpoint.memory import InMemorySaver\n",
    "\n",
    "\n",
    "checkpointer = InMemorySaver()\n",
    "checkpointer\n",
    "\n",
    "load_dotenv()"
   ]
  },
  {
   "cell_type": "code",
   "execution_count": 2,
   "id": "1f7d59f7",
   "metadata": {},
   "outputs": [],
   "source": [
    "#Groq Model object\n",
    "model1 = ChatGroq(\n",
    "    model=\"groq/compound-mini\",\n",
    "    temperature=0.2\n",
    ")\n",
    "model1\n",
    "\n",
    "#openAI model object.\n",
    "model2 = ChatOpenAI(temperature=0.2)\n",
    "\n",
    "## Hugging Face endpoint define karo OPen source Model chat or Generation Model.\n",
    "llm = HuggingFaceEndpoint(\n",
    "    repo_id=\"mistralai/Mistral-7B-Instruct-v0.3\",\n",
    "    task=\"text-generation\",\n",
    "    max_new_tokens=512,\n",
    "    do_sample=False,\n",
    ")\n",
    "\n",
    "# Chat model object banao\n",
    "model3 = ChatHuggingFace(llm=llm)"
   ]
  },
  {
   "cell_type": "markdown",
   "id": "41e494c9",
   "metadata": {},
   "source": [
    "```\n",
    "Time Travel Using Persistence We Can achieve:-\n",
    "it help to go backward to nodes and perform execution again help to debbugging it\n",
    "```"
   ]
  },
  {
   "cell_type": "code",
   "execution_count": 3,
   "id": "f7cbaf87",
   "metadata": {},
   "outputs": [
    {
     "data": {
      "text/plain": [
       "<langgraph.graph.state.StateGraph at 0x1d8e4a57a00>"
      ]
     },
     "execution_count": 3,
     "metadata": {},
     "output_type": "execute_result"
    }
   ],
   "source": [
    "checkpointer = InMemorySaver()\n",
    "checkpointer\n",
    "\n",
    "class JokeState(TypedDict):\n",
    "    title : str\n",
    "    gen_joke : str | None\n",
    "    gen_expl : str | None\n",
    "    \n",
    "#creating an object of stategraph class.\n",
    "graph = StateGraph(JokeState)\n",
    "graph"
   ]
  },
  {
   "cell_type": "code",
   "execution_count": 4,
   "id": "93e67798",
   "metadata": {},
   "outputs": [],
   "source": [
    "#creating Generate_Joke node ke liye function.\n",
    "def Generate_Joke(state:JokeState) ->JokeState:\n",
    "    \n",
    "    parser = StrOutputParser()\n",
    "    \n",
    "    #fetching the topic from state class\n",
    "    topic = state['title']\n",
    "    \n",
    "    #creating a prompt template or structure instruction based on this topic.\n",
    "    prompt = PromptTemplate(\n",
    "        template=\"\"\"\n",
    "        You are an expert joke generator.  \n",
    "        Your task is to create a **funny joke** based strictly on the given topic: \"{topic}\".\n",
    "\n",
    "        Instructions:\n",
    "        1. Make the joke humorous, witty, and short (2-3 sentences max).  \n",
    "        2. Do not add anything extra outside the joke.  \n",
    "        3. The joke should be original and not copied.  \n",
    "        \n",
    "        \"\"\",\n",
    "        input_variables=['topic']\n",
    "        \n",
    "    )\n",
    "    \n",
    "    #passing the prompt to model. using sequential chain\n",
    "    chain = prompt | model1 | parser\n",
    "    \n",
    "    #invoking the chain.\n",
    "    result = chain.invoke({'topic':topic})\n",
    "    \n",
    "    #now updating the state the partial stae and returning back.\n",
    "    return {\n",
    "        'gen_joke':result\n",
    "    }\n",
    "    "
   ]
  },
  {
   "cell_type": "code",
   "execution_count": 5,
   "id": "eb09a091",
   "metadata": {},
   "outputs": [],
   "source": [
    "#creating Generate_Explanation node ke liye function.\n",
    "def Generate_Explanation(state:JokeState) ->JokeState:\n",
    "    \n",
    "    parser = StrOutputParser()\n",
    "    \n",
    "    #fetching the topic from state class\n",
    "    topic = state['title']\n",
    "    joke = state['gen_joke']\n",
    "    \n",
    "    #creating a prompt template or structure instruction based on this topic.\n",
    "    prompt = PromptTemplate(\n",
    "        template=\"\"\"\n",
    "        You are an expert joke explanation.  \n",
    "        Your task is to provide Explantion of  **funny joke** based on the given Joke topic: \"{joke}\".\n",
    "\n",
    "        Instructions:\n",
    "        1. Make the Explanation of Joke to be short (2-3 sentences max).  \n",
    "        2. The Explanation should be original and not copied.  \n",
    "        \n",
    "        \"\"\",\n",
    "        input_variables=['joke']\n",
    "        \n",
    "    )\n",
    "    \n",
    "    #passing the prompt to model. using sequential chain\n",
    "    chain = prompt | model1 | parser\n",
    "    \n",
    "    #invoking the chain.\n",
    "    result = chain.invoke({'joke':joke})\n",
    "    \n",
    "    #now updating the state the partial stae and returning back.\n",
    "    return {\n",
    "        'gen_expl':result\n",
    "    }\n",
    "    "
   ]
  },
  {
   "cell_type": "code",
   "execution_count": 6,
   "id": "1ca7df39",
   "metadata": {},
   "outputs": [
    {
     "data": {
      "image/png": "[encoded data removed]",
      "text/plain": [
       "<langgraph.graph.state.CompiledStateGraph object at 0x000001D8E04628F0>"
      ]
     },
     "execution_count": 6,
     "metadata": {},
     "output_type": "execute_result"
    }
   ],
   "source": [
    "#adding the node to graph.\n",
    "graph.add_node(node=\"Generate_Joke\",action=Generate_Joke)\n",
    "graph.add_node(node=\"Generate_Explanation\",action=Generate_Explanation)\n",
    "\n",
    "\n",
    "\n",
    "#adding edges to graph\n",
    "graph.add_edge(START,'Generate_Joke')\n",
    "graph.add_edge('Generate_Joke','Generate_Explanation')\n",
    "graph.add_edge('Generate_Explanation',END)\n",
    "\n",
    "#compiling the graph.\n",
    "graph.compile()"
   ]
  },
  {
   "cell_type": "code",
   "execution_count": 7,
   "id": "9d1fb3b7",
   "metadata": {},
   "outputs": [
    {
     "data": {
      "text/plain": [
       "{'title': 'pizza',\n",
       " 'gen_joke': \"Why did the pizza go to therapy? It had a saucy attitude and a crusty exterior that was hiding a cheesy insecurity. Now it's working on a topping complex.\",\n",
       " 'gen_expl': 'This joke plays on the multiple meanings of pizza-related terms to create a humorous therapy session scenario. The \"saucy attitude\" and \"crusty exterior\" are puns on the pizza\\'s physical characteristics, while also describing a person\\'s defensive personality traits. The punchline about a \"topping complex\" cleverly ties the pizza theme to psychological jargon, implying the pizza (or person) is working on overcoming feelings of inadequacy.'}"
      ]
     },
     "execution_count": 7,
     "metadata": {},
     "output_type": "execute_result"
    }
   ],
   "source": [
    "workflow = graph.compile(checkpointer=checkpointer)\n",
    "\n",
    "#calling the initial state by creating an object of that class.\n",
    "initial_state = JokeState(title=\"pizza\")\n",
    "\n",
    "\n",
    "#now invoking the workflow passing the inital state throughout workflow.\n",
    "result = workflow.invoke(input=initial_state,config={\"configurable\": {\"thread_id\": \"1\"}})\n",
    "result"
   ]
  },
  {
   "cell_type": "code",
   "execution_count": 8,
   "id": "a99d6f9d",
   "metadata": {},
   "outputs": [
    {
     "data": {
      "text/plain": [
       "[StateSnapshot(values={'title': 'pizza', 'gen_joke': \"Why did the pizza go to therapy? It had a saucy attitude and a crusty exterior that was hiding a cheesy insecurity. Now it's working on a topping complex.\", 'gen_expl': 'This joke plays on the multiple meanings of pizza-related terms to create a humorous therapy session scenario. The \"saucy attitude\" and \"crusty exterior\" are puns on the pizza\\'s physical characteristics, while also describing a person\\'s defensive personality traits. The punchline about a \"topping complex\" cleverly ties the pizza theme to psychological jargon, implying the pizza (or person) is working on overcoming feelings of inadequacy.'}, next=(), config={'configurable': {'thread_id': '1', 'checkpoint_ns': '', 'checkpoint_id': '1f08b10b-68db-668a-8002-f5805a311354'}}, metadata={'source': 'loop', 'step': 2, 'parents': {}}, created_at='2025-09-06T11:00:34.696359+00:00', parent_config={'configurable': {'thread_id': '1', 'checkpoint_ns': '', 'checkpoint_id': '1f08b10b-6047-6daa-8001-9f5f6d1266bb'}}, tasks=(), interrupts=()),\n",
       " StateSnapshot(values={'title': 'pizza', 'gen_joke': \"Why did the pizza go to therapy? It had a saucy attitude and a crusty exterior that was hiding a cheesy insecurity. Now it's working on a topping complex.\"}, next=('Generate_Explanation',), config={'configurable': {'thread_id': '1', 'checkpoint_ns': '', 'checkpoint_id': '1f08b10b-6047-6daa-8001-9f5f6d1266bb'}}, metadata={'source': 'loop', 'step': 1, 'parents': {}}, created_at='2025-09-06T11:00:33.797060+00:00', parent_config={'configurable': {'thread_id': '1', 'checkpoint_ns': '', 'checkpoint_id': '1f08b10b-5bff-61c0-8000-b0c68920562a'}}, tasks=(PregelTask(id='5f573112-bae8-e7a3-345f-833b0caa57b3', name='Generate_Explanation', path=('__pregel_pull', 'Generate_Explanation'), error=None, interrupts=(), state=None, result={'gen_expl': 'This joke plays on the multiple meanings of pizza-related terms to create a humorous therapy session scenario. The \"saucy attitude\" and \"crusty exterior\" are puns on the pizza\\'s physical characteristics, while also describing a person\\'s defensive personality traits. The punchline about a \"topping complex\" cleverly ties the pizza theme to psychological jargon, implying the pizza (or person) is working on overcoming feelings of inadequacy.'}),), interrupts=()),\n",
       " StateSnapshot(values={'title': 'pizza'}, next=('Generate_Joke',), config={'configurable': {'thread_id': '1', 'checkpoint_ns': '', 'checkpoint_id': '1f08b10b-5bff-61c0-8000-b0c68920562a'}}, metadata={'source': 'loop', 'step': 0, 'parents': {}}, created_at='2025-09-06T11:00:33.347833+00:00', parent_config={'configurable': {'thread_id': '1', 'checkpoint_ns': '', 'checkpoint_id': '1f08b10b-5bfc-6ab8-bfff-d756dadc2cd1'}}, tasks=(PregelTask(id='48b936aa-f091-71b3-30a8-9745caef7bce', name='Generate_Joke', path=('__pregel_pull', 'Generate_Joke'), error=None, interrupts=(), state=None, result={'gen_joke': \"Why did the pizza go to therapy? It had a saucy attitude and a crusty exterior that was hiding a cheesy insecurity. Now it's working on a topping complex.\"}),), interrupts=()),\n",
       " StateSnapshot(values={}, next=('__start__',), config={'configurable': {'thread_id': '1', 'checkpoint_ns': '', 'checkpoint_id': '1f08b10b-5bfc-6ab8-bfff-d756dadc2cd1'}}, metadata={'source': 'input', 'step': -1, 'parents': {}}, created_at='2025-09-06T11:00:33.346834+00:00', parent_config=None, tasks=(PregelTask(id='86b6bcea-5d53-3ea4-d80d-2776d4a06cf8', name='__start__', path=('__pregel_pull', '__start__'), error=None, interrupts=(), state=None, result={'title': 'pizza'}),), interrupts=())]"
      ]
     },
     "execution_count": 8,
     "metadata": {},
     "output_type": "execute_result"
    }
   ],
   "source": [
    "# to show starting or intermediate and ending nodes state value\n",
    "list(workflow.get_state_history(config={\"configurable\": {\"thread_id\": \"1\"}}))"
   ]
  },
  {
   "cell_type": "markdown",
   "id": "535173a9",
   "metadata": {},
   "source": [
    "# Time Travel"
   ]
  },
  {
   "cell_type": "markdown",
   "id": "f9131951",
   "metadata": {},
   "source": [
    "# these is the way to go back to any node in WORKFLOW (cut mara hu)"
   ]
  },
  {
   "cell_type": "code",
   "execution_count": 10,
   "id": "c62c792e",
   "metadata": {},
   "outputs": [
    {
     "data": {
      "text/plain": [
       "StateSnapshot(values={'title': 'pizza'}, next=('Generate_Joke',), config={'configurable': {'thread_id': '1', 'checkpoint_ns': '', 'checkpoint_id': '1f08b10b-5bff-61c0-8000-b0c68920562a'}}, metadata={'source': 'loop', 'step': 0, 'parents': {}}, created_at='2025-09-06T11:00:33.347833+00:00', parent_config={'configurable': {'thread_id': '1', 'checkpoint_ns': '', 'checkpoint_id': '1f08b10b-5bfc-6ab8-bfff-d756dadc2cd1'}}, tasks=(PregelTask(id='48b936aa-f091-71b3-30a8-9745caef7bce', name='Generate_Joke', path=('__pregel_pull', 'Generate_Joke'), error=None, interrupts=(), state=None, result={'gen_joke': \"Why did the pizza go to therapy? It had a saucy attitude and a crusty exterior that was hiding a cheesy insecurity. Now it's working on a topping complex.\"}),), interrupts=())"
      ]
     },
     "execution_count": 10,
     "metadata": {},
     "output_type": "execute_result"
    }
   ],
   "source": [
    "#these is the way to go back to any node in WORKFLOW\n",
    "workflow.get_state(config={\n",
    "    'configurable': {'thread_id': '1', 'checkpoint_ns': '', 'checkpoint_id': '1f08b10b-5bff-61c0-8000-b0c68920562a'}}\n",
    "                   )"
   ]
  },
  {
   "cell_type": "markdown",
   "id": "5f5b9d70",
   "metadata": {},
   "source": [
    "# after going back to paticular node agar mujhe that node se workflow execution wapas start or resume karni hai toh you will see the difference in state history"
   ]
  },
  {
   "cell_type": "code",
   "execution_count": null,
   "id": "a560282d",
   "metadata": {},
   "outputs": [
    {
     "data": {
      "text/plain": [
       "{'title': 'pizza',\n",
       " 'gen_joke': \"Why did the pizza go to therapy? It had a saucy attitude and a crusty personality. Now it's working on its toppings complex.\",\n",
       " 'gen_expl': 'This joke plays on the multiple meanings of pizza-related terms to create a punny therapy scenario. The phrase \"saucy attitude\" and \"crusty personality\" are wordplays on common pizza characteristics, implying the pizza has a cheeky and tough demeanor. The punchline about the \"toppings complex\" cleverly references both a psychological complex and the pizza toppings, adding a layer of cleverness to the joke.'}"
      ]
     },
     "execution_count": 11,
     "metadata": {},
     "output_type": "execute_result"
    }
   ],
   "source": [
    "workflow.invoke(input=None,\n",
    "                config={'configurable': {'thread_id': '1', 'checkpoint_ns': '', 'checkpoint_id': '1f08b10b-5bff-61c0-8000-b0c68920562a'}}\n",
    "                )\n",
    "# same topic se meine explanation dusra liya hu"
   ]
  },
  {
   "cell_type": "markdown",
   "id": "7cd7ef91",
   "metadata": {},
   "source": [
    "# to show saarey intermediate workow ke andar state value"
   ]
  },
  {
   "cell_type": "code",
   "execution_count": 12,
   "id": "56626c2c",
   "metadata": {},
   "outputs": [
    {
     "data": {
      "text/plain": [
       "[StateSnapshot(values={'title': 'pizza', 'gen_joke': \"Why did the pizza go to therapy? It had a saucy attitude and a crusty personality. Now it's working on its toppings complex.\", 'gen_expl': 'This joke plays on the multiple meanings of pizza-related terms to create a punny therapy scenario. The phrase \"saucy attitude\" and \"crusty personality\" are wordplays on common pizza characteristics, implying the pizza has a cheeky and tough demeanor. The punchline about the \"toppings complex\" cleverly references both a psychological complex and the pizza toppings, adding a layer of cleverness to the joke.'}, next=(), config={'configurable': {'thread_id': '1', 'checkpoint_ns': '', 'checkpoint_id': '1f08b10f-b9d1-69b3-8002-6282a36b18bb'}}, metadata={'source': 'loop', 'step': 2, 'parents': {}}, created_at='2025-09-06T11:02:30.559992+00:00', parent_config={'configurable': {'thread_id': '1', 'checkpoint_ns': '', 'checkpoint_id': '1f08b10f-b283-69a1-8001-00d21162cb1f'}}, tasks=(), interrupts=()),\n",
       " StateSnapshot(values={'title': 'pizza', 'gen_joke': \"Why did the pizza go to therapy? It had a saucy attitude and a crusty personality. Now it's working on its toppings complex.\"}, next=('Generate_Explanation',), config={'configurable': {'thread_id': '1', 'checkpoint_ns': '', 'checkpoint_id': '1f08b10f-b283-69a1-8001-00d21162cb1f'}}, metadata={'source': 'loop', 'step': 1, 'parents': {}}, created_at='2025-09-06T11:02:29.794038+00:00', parent_config={'configurable': {'thread_id': '1', 'checkpoint_ns': '', 'checkpoint_id': '1f08b10b-5bff-61c0-8000-b0c68920562a'}}, tasks=(PregelTask(id='72315f97-58af-69dc-e7a8-e8719e2f4c72', name='Generate_Explanation', path=('__pregel_pull', 'Generate_Explanation'), error=None, interrupts=(), state=None, result={'gen_expl': 'This joke plays on the multiple meanings of pizza-related terms to create a punny therapy scenario. The phrase \"saucy attitude\" and \"crusty personality\" are wordplays on common pizza characteristics, implying the pizza has a cheeky and tough demeanor. The punchline about the \"toppings complex\" cleverly references both a psychological complex and the pizza toppings, adding a layer of cleverness to the joke.'}),), interrupts=()),\n",
       " StateSnapshot(values={'title': 'pizza', 'gen_joke': \"Why did the pizza go to therapy? It had a saucy attitude and a crusty exterior that was hiding a cheesy insecurity. Now it's working on a topping complex.\", 'gen_expl': 'This joke plays on the multiple meanings of pizza-related terms to create a humorous therapy session scenario. The \"saucy attitude\" and \"crusty exterior\" are puns on the pizza\\'s physical characteristics, while also describing a person\\'s defensive personality traits. The punchline about a \"topping complex\" cleverly ties the pizza theme to psychological jargon, implying the pizza (or person) is working on overcoming feelings of inadequacy.'}, next=(), config={'configurable': {'thread_id': '1', 'checkpoint_ns': '', 'checkpoint_id': '1f08b10b-68db-668a-8002-f5805a311354'}}, metadata={'source': 'loop', 'step': 2, 'parents': {}}, created_at='2025-09-06T11:00:34.696359+00:00', parent_config={'configurable': {'thread_id': '1', 'checkpoint_ns': '', 'checkpoint_id': '1f08b10b-6047-6daa-8001-9f5f6d1266bb'}}, tasks=(), interrupts=()),\n",
       " StateSnapshot(values={'title': 'pizza', 'gen_joke': \"Why did the pizza go to therapy? It had a saucy attitude and a crusty exterior that was hiding a cheesy insecurity. Now it's working on a topping complex.\"}, next=('Generate_Explanation',), config={'configurable': {'thread_id': '1', 'checkpoint_ns': '', 'checkpoint_id': '1f08b10b-6047-6daa-8001-9f5f6d1266bb'}}, metadata={'source': 'loop', 'step': 1, 'parents': {}}, created_at='2025-09-06T11:00:33.797060+00:00', parent_config={'configurable': {'thread_id': '1', 'checkpoint_ns': '', 'checkpoint_id': '1f08b10b-5bff-61c0-8000-b0c68920562a'}}, tasks=(PregelTask(id='5f573112-bae8-e7a3-345f-833b0caa57b3', name='Generate_Explanation', path=('__pregel_pull', 'Generate_Explanation'), error=None, interrupts=(), state=None, result={'gen_expl': 'This joke plays on the multiple meanings of pizza-related terms to create a humorous therapy session scenario. The \"saucy attitude\" and \"crusty exterior\" are puns on the pizza\\'s physical characteristics, while also describing a person\\'s defensive personality traits. The punchline about a \"topping complex\" cleverly ties the pizza theme to psychological jargon, implying the pizza (or person) is working on overcoming feelings of inadequacy.'}),), interrupts=()),\n",
       " StateSnapshot(values={'title': 'pizza'}, next=('Generate_Joke',), config={'configurable': {'thread_id': '1', 'checkpoint_ns': '', 'checkpoint_id': '1f08b10b-5bff-61c0-8000-b0c68920562a'}}, metadata={'source': 'loop', 'step': 0, 'parents': {}}, created_at='2025-09-06T11:00:33.347833+00:00', parent_config={'configurable': {'thread_id': '1', 'checkpoint_ns': '', 'checkpoint_id': '1f08b10b-5bfc-6ab8-bfff-d756dadc2cd1'}}, tasks=(PregelTask(id='48b936aa-f091-71b3-30a8-9745caef7bce', name='Generate_Joke', path=('__pregel_pull', 'Generate_Joke'), error=None, interrupts=(), state=None, result={'gen_joke': \"Why did the pizza go to therapy? It had a saucy attitude and a crusty exterior that was hiding a cheesy insecurity. Now it's working on a topping complex.\"}),), interrupts=()),\n",
       " StateSnapshot(values={}, next=('__start__',), config={'configurable': {'thread_id': '1', 'checkpoint_ns': '', 'checkpoint_id': '1f08b10b-5bfc-6ab8-bfff-d756dadc2cd1'}}, metadata={'source': 'input', 'step': -1, 'parents': {}}, created_at='2025-09-06T11:00:33.346834+00:00', parent_config=None, tasks=(PregelTask(id='86b6bcea-5d53-3ea4-d80d-2776d4a06cf8', name='__start__', path=('__pregel_pull', '__start__'), error=None, interrupts=(), state=None, result={'title': 'pizza'}),), interrupts=())]"
      ]
     },
     "execution_count": 12,
     "metadata": {},
     "output_type": "execute_result"
    }
   ],
   "source": [
    "list(workflow.get_state_history(config={\"configurable\": {\"thread_id\": \"1\"}})) #top 2 will come with time travel ki vajey se"
   ]
  },
  {
   "cell_type": "code",
   "execution_count": null,
   "id": "684c824c",
   "metadata": {},
   "outputs": [],
   "source": []
  },
  {
   "cell_type": "markdown",
   "id": "d69badb5",
   "metadata": {},
   "source": [
    "# we can go backward to paticular checkpoint of node and do update in state"
   ]
  },
  {
   "cell_type": "markdown",
   "id": "e8ce9c23",
   "metadata": {},
   "source": [
    "# #update state#"
   ]
  },
  {
   "cell_type": "code",
   "execution_count": 19,
   "id": "dda6be09",
   "metadata": {},
   "outputs": [
    {
     "data": {
      "text/plain": [
       "{'configurable': {'thread_id': '1',\n",
       "  'checkpoint_ns': '',\n",
       "  'checkpoint_id': '1f08b11f-a7b3-61cc-8001-7873a4d54036'}}"
      ]
     },
     "execution_count": 19,
     "metadata": {},
     "output_type": "execute_result"
    }
   ],
   "source": [
    "#meine jab topic provide hone ke baad ----> gen_joke level ke checkpoint pe gaya hu to update topic\n",
    "workflow.update_state(config=\n",
    "                      {'configurable': {'thread_id': '1', 'checkpoint_ns': '', 'checkpoint_id': '1f08b10b-5bff-61c0-8000-b0c68920562a'}}\n",
    "                      ,\n",
    "                      values={'title':'sex'})"
   ]
  },
  {
   "cell_type": "code",
   "execution_count": 20,
   "id": "066e2c0d",
   "metadata": {},
   "outputs": [
    {
     "data": {
      "text/plain": [
       "[StateSnapshot(values={'title': 'sex'}, next=('Generate_Joke',), config={'configurable': {'thread_id': '1', 'checkpoint_ns': '', 'checkpoint_id': '1f08b11f-a7b3-61cc-8001-7873a4d54036'}}, metadata={'source': 'update', 'step': 1, 'parents': {}}, created_at='2025-09-06T11:09:38.156794+00:00', parent_config={'configurable': {'thread_id': '1', 'checkpoint_ns': '', 'checkpoint_id': '1f08b10b-5bff-61c0-8000-b0c68920562a'}}, tasks=(PregelTask(id='e984123d-47ad-90e9-b944-9ce5baad7478', name='Generate_Joke', path=('__pregel_pull', 'Generate_Joke'), error=None, interrupts=(), state=None, result=None),), interrupts=()),\n",
       " StateSnapshot(values={'title': 'pizza'}, next=('Generate_Joke',), config={'configurable': {'thread_id': '1', 'checkpoint_ns': '', 'checkpoint_id': '1f08b11c-592f-6c54-8001-165eee154da4'}}, metadata={'source': 'update', 'step': 1, 'parents': {}}, created_at='2025-09-06T11:08:09.393467+00:00', parent_config={'configurable': {'thread_id': '1', 'checkpoint_ns': '', 'checkpoint_id': '1f08b10b-5bff-61c0-8000-b0c68920562a'}}, tasks=(PregelTask(id='a701255d-e614-66dd-50b5-e5e453147705', name='Generate_Joke', path=('__pregel_pull', 'Generate_Joke'), error=None, interrupts=(), state=None, result=None),), interrupts=()),\n",
       " StateSnapshot(values={'title': 'pizza', 'gen_joke': \"Why did the pizza go to therapy? It had a saucy attitude and a crusty exterior that was hiding a cheesy insecurity. Now it's working on a topping complex.\", 'gen_expl': 'This joke plays on the multiple meanings of pizza-related terms to create a humorous therapy session scenario. The \"saucy attitude\" and \"crusty exterior\" are clever wordplays on pizza characteristics that are also common psychological defense mechanisms, while \"cheesy insecurity\" and \"topping complex\" add to the cheesy puns, creating a lighthearted and amusing effect. The joke relies on the unexpected twist of applying culinary traits to human-like emotional struggles.'}, next=(), config={'configurable': {'thread_id': '1', 'checkpoint_ns': '', 'checkpoint_id': '1f08b119-9c19-6a46-8002-615bbd7c485d'}}, metadata={'source': 'loop', 'step': 2, 'parents': {}}, created_at='2025-09-06T11:06:55.879226+00:00', parent_config={'configurable': {'thread_id': '1', 'checkpoint_ns': '', 'checkpoint_id': '1f08b10b-6047-6daa-8001-9f5f6d1266bb'}}, tasks=(), interrupts=()),\n",
       " StateSnapshot(values={'title': 'pizza', 'gen_joke': \"Why did the pizza go to therapy? It had a saucy attitude and a crusty exterior that was hiding a cheesy insecurity. Now it's working on a topping complex.\"}, next=('Generate_Explanation',), config={'configurable': {'thread_id': '1', 'checkpoint_ns': '', 'checkpoint_id': '1f08b116-a92e-6e35-8002-cfe72e6685af'}}, metadata={'source': 'update', 'step': 2, 'parents': {}}, created_at='2025-09-06T11:05:36.720440+00:00', parent_config={'configurable': {'thread_id': '1', 'checkpoint_ns': '', 'checkpoint_id': '1f08b10b-6047-6daa-8001-9f5f6d1266bb'}}, tasks=(PregelTask(id='c4c9bd03-90b2-9486-28fc-0cb20551ed75', name='Generate_Explanation', path=('__pregel_pull', 'Generate_Explanation'), error=None, interrupts=(), state=None, result=None),), interrupts=()),\n",
       " StateSnapshot(values={'title': 'pizza', 'gen_joke': \"Why did the pizza go to therapy? It had a saucy attitude and a crusty personality. Now it's working on its toppings complex.\", 'gen_expl': 'This joke plays on the multiple meanings of pizza-related terms to create a punny therapy scenario. The phrase \"saucy attitude\" and \"crusty personality\" are wordplays on common pizza characteristics, implying the pizza has a cheeky and tough demeanor. The punchline about the \"toppings complex\" cleverly references both a psychological complex and the pizza toppings, adding a layer of cleverness to the joke.'}, next=(), config={'configurable': {'thread_id': '1', 'checkpoint_ns': '', 'checkpoint_id': '1f08b10f-b9d1-69b3-8002-6282a36b18bb'}}, metadata={'source': 'loop', 'step': 2, 'parents': {}}, created_at='2025-09-06T11:02:30.559992+00:00', parent_config={'configurable': {'thread_id': '1', 'checkpoint_ns': '', 'checkpoint_id': '1f08b10f-b283-69a1-8001-00d21162cb1f'}}, tasks=(), interrupts=()),\n",
       " StateSnapshot(values={'title': 'pizza', 'gen_joke': \"Why did the pizza go to therapy? It had a saucy attitude and a crusty personality. Now it's working on its toppings complex.\"}, next=('Generate_Explanation',), config={'configurable': {'thread_id': '1', 'checkpoint_ns': '', 'checkpoint_id': '1f08b10f-b283-69a1-8001-00d21162cb1f'}}, metadata={'source': 'loop', 'step': 1, 'parents': {}}, created_at='2025-09-06T11:02:29.794038+00:00', parent_config={'configurable': {'thread_id': '1', 'checkpoint_ns': '', 'checkpoint_id': '1f08b10b-5bff-61c0-8000-b0c68920562a'}}, tasks=(PregelTask(id='72315f97-58af-69dc-e7a8-e8719e2f4c72', name='Generate_Explanation', path=('__pregel_pull', 'Generate_Explanation'), error=None, interrupts=(), state=None, result={'gen_expl': 'This joke plays on the multiple meanings of pizza-related terms to create a punny therapy scenario. The phrase \"saucy attitude\" and \"crusty personality\" are wordplays on common pizza characteristics, implying the pizza has a cheeky and tough demeanor. The punchline about the \"toppings complex\" cleverly references both a psychological complex and the pizza toppings, adding a layer of cleverness to the joke.'}),), interrupts=()),\n",
       " StateSnapshot(values={'title': 'pizza', 'gen_joke': \"Why did the pizza go to therapy? It had a saucy attitude and a crusty exterior that was hiding a cheesy insecurity. Now it's working on a topping complex.\", 'gen_expl': 'This joke plays on the multiple meanings of pizza-related terms to create a humorous therapy session scenario. The \"saucy attitude\" and \"crusty exterior\" are puns on the pizza\\'s physical characteristics, while also describing a person\\'s defensive personality traits. The punchline about a \"topping complex\" cleverly ties the pizza theme to psychological jargon, implying the pizza (or person) is working on overcoming feelings of inadequacy.'}, next=(), config={'configurable': {'thread_id': '1', 'checkpoint_ns': '', 'checkpoint_id': '1f08b10b-68db-668a-8002-f5805a311354'}}, metadata={'source': 'loop', 'step': 2, 'parents': {}}, created_at='2025-09-06T11:00:34.696359+00:00', parent_config={'configurable': {'thread_id': '1', 'checkpoint_ns': '', 'checkpoint_id': '1f08b10b-6047-6daa-8001-9f5f6d1266bb'}}, tasks=(), interrupts=()),\n",
       " StateSnapshot(values={'title': 'pizza', 'gen_joke': \"Why did the pizza go to therapy? It had a saucy attitude and a crusty exterior that was hiding a cheesy insecurity. Now it's working on a topping complex.\"}, next=('Generate_Explanation',), config={'configurable': {'thread_id': '1', 'checkpoint_ns': '', 'checkpoint_id': '1f08b10b-6047-6daa-8001-9f5f6d1266bb'}}, metadata={'source': 'loop', 'step': 1, 'parents': {}}, created_at='2025-09-06T11:00:33.797060+00:00', parent_config={'configurable': {'thread_id': '1', 'checkpoint_ns': '', 'checkpoint_id': '1f08b10b-5bff-61c0-8000-b0c68920562a'}}, tasks=(PregelTask(id='5f573112-bae8-e7a3-345f-833b0caa57b3', name='Generate_Explanation', path=('__pregel_pull', 'Generate_Explanation'), error=None, interrupts=(), state=None, result={'gen_expl': 'This joke plays on the multiple meanings of pizza-related terms to create a humorous therapy session scenario. The \"saucy attitude\" and \"crusty exterior\" are puns on the pizza\\'s physical characteristics, while also describing a person\\'s defensive personality traits. The punchline about a \"topping complex\" cleverly ties the pizza theme to psychological jargon, implying the pizza (or person) is working on overcoming feelings of inadequacy.'}),), interrupts=()),\n",
       " StateSnapshot(values={'title': 'pizza'}, next=('Generate_Joke',), config={'configurable': {'thread_id': '1', 'checkpoint_ns': '', 'checkpoint_id': '1f08b10b-5bff-61c0-8000-b0c68920562a'}}, metadata={'source': 'loop', 'step': 0, 'parents': {}}, created_at='2025-09-06T11:00:33.347833+00:00', parent_config={'configurable': {'thread_id': '1', 'checkpoint_ns': '', 'checkpoint_id': '1f08b10b-5bfc-6ab8-bfff-d756dadc2cd1'}}, tasks=(PregelTask(id='48b936aa-f091-71b3-30a8-9745caef7bce', name='Generate_Joke', path=('__pregel_pull', 'Generate_Joke'), error=None, interrupts=(), state=None, result={'gen_joke': \"Why did the pizza go to therapy? It had a saucy attitude and a crusty exterior that was hiding a cheesy insecurity. Now it's working on a topping complex.\"}),), interrupts=()),\n",
       " StateSnapshot(values={}, next=('__start__',), config={'configurable': {'thread_id': '1', 'checkpoint_ns': '', 'checkpoint_id': '1f08b10b-5bfc-6ab8-bfff-d756dadc2cd1'}}, metadata={'source': 'input', 'step': -1, 'parents': {}}, created_at='2025-09-06T11:00:33.346834+00:00', parent_config=None, tasks=(PregelTask(id='86b6bcea-5d53-3ea4-d80d-2776d4a06cf8', name='__start__', path=('__pregel_pull', '__start__'), error=None, interrupts=(), state=None, result={'title': 'pizza'}),), interrupts=())]"
      ]
     },
     "execution_count": 20,
     "metadata": {},
     "output_type": "execute_result"
    }
   ],
   "source": [
    "list(workflow.get_state_history(config={\"configurable\": {\"thread_id\": \"1\"}}))"
   ]
  },
  {
   "cell_type": "code",
   "execution_count": 21,
   "id": "6fe5d027",
   "metadata": {},
   "outputs": [
    {
     "data": {
      "text/plain": [
       "{'title': 'sex',\n",
       " 'gen_joke': 'Why did sex go to therapy? Because it was struggling to connect with people and was feeling a little \"dysfunctional\". Now it\\'s working on building intimacy issues.',\n",
       " 'gen_expl': 'This joke plays on the double meanings of words related to intimacy and psychological issues. The phrase \"struggling to connect with people\" and \"dysfunctional\" have literal and figurative meanings in the context of relationships and sex, while also being common issues addressed in therapy. The punchline about \"building intimacy issues\" is a clever twist, as it references both the therapeutic goal and a common problem in relationships, adding a layer of irony to the humor.'}"
      ]
     },
     "execution_count": 21,
     "metadata": {},
     "output_type": "execute_result"
    }
   ],
   "source": [
    "#executing the state again\n",
    "workflow.invoke(input=None,config={\n",
    "  'configurable': {'thread_id': '1', 'checkpoint_ns': '', 'checkpoint_id': '1f08b11f-a7b3-61cc-8001-7873a4d54036'}})"
   ]
  },
  {
   "cell_type": "code",
   "execution_count": 22,
   "id": "889c27e3",
   "metadata": {},
   "outputs": [
    {
     "data": {
      "text/plain": [
       "[StateSnapshot(values={'title': 'sex', 'gen_joke': 'Why did sex go to therapy? Because it was struggling to connect with people and was feeling a little \"dysfunctional\". Now it\\'s working on building intimacy issues.', 'gen_expl': 'This joke plays on the double meanings of words related to intimacy and psychological issues. The phrase \"struggling to connect with people\" and \"dysfunctional\" have literal and figurative meanings in the context of relationships and sex, while also being common issues addressed in therapy. The punchline about \"building intimacy issues\" is a clever twist, as it references both the therapeutic goal and a common problem in relationships, adding a layer of irony to the humor.'}, next=(), config={'configurable': {'thread_id': '1', 'checkpoint_ns': '', 'checkpoint_id': '1f08b121-4296-6633-8003-d87cd8b211f6'}}, metadata={'source': 'loop', 'step': 3, 'parents': {}}, created_at='2025-09-06T11:10:21.241502+00:00', parent_config={'configurable': {'thread_id': '1', 'checkpoint_ns': '', 'checkpoint_id': '1f08b121-32c6-6635-8002-31db9a04fd57'}}, tasks=(), interrupts=()),\n",
       " StateSnapshot(values={'title': 'sex', 'gen_joke': 'Why did sex go to therapy? Because it was struggling to connect with people and was feeling a little \"dysfunctional\". Now it\\'s working on building intimacy issues.'}, next=('Generate_Explanation',), config={'configurable': {'thread_id': '1', 'checkpoint_ns': '', 'checkpoint_id': '1f08b121-32c6-6635-8002-31db9a04fd57'}}, metadata={'source': 'loop', 'step': 2, 'parents': {}}, created_at='2025-09-06T11:10:19.583442+00:00', parent_config={'configurable': {'thread_id': '1', 'checkpoint_ns': '', 'checkpoint_id': '1f08b11f-a7b3-61cc-8001-7873a4d54036'}}, tasks=(PregelTask(id='5f9bf1c0-f2b3-75cc-0562-3901bbdb8537', name='Generate_Explanation', path=('__pregel_pull', 'Generate_Explanation'), error=None, interrupts=(), state=None, result={'gen_expl': 'This joke plays on the double meanings of words related to intimacy and psychological issues. The phrase \"struggling to connect with people\" and \"dysfunctional\" have literal and figurative meanings in the context of relationships and sex, while also being common issues addressed in therapy. The punchline about \"building intimacy issues\" is a clever twist, as it references both the therapeutic goal and a common problem in relationships, adding a layer of irony to the humor.'}),), interrupts=()),\n",
       " StateSnapshot(values={'title': 'sex'}, next=('Generate_Joke',), config={'configurable': {'thread_id': '1', 'checkpoint_ns': '', 'checkpoint_id': '1f08b11f-a7b3-61cc-8001-7873a4d54036'}}, metadata={'source': 'update', 'step': 1, 'parents': {}}, created_at='2025-09-06T11:09:38.156794+00:00', parent_config={'configurable': {'thread_id': '1', 'checkpoint_ns': '', 'checkpoint_id': '1f08b10b-5bff-61c0-8000-b0c68920562a'}}, tasks=(PregelTask(id='e984123d-47ad-90e9-b944-9ce5baad7478', name='Generate_Joke', path=('__pregel_pull', 'Generate_Joke'), error=None, interrupts=(), state=None, result={'gen_joke': 'Why did sex go to therapy? Because it was struggling to connect with people and was feeling a little \"dysfunctional\". Now it\\'s working on building intimacy issues.'}),), interrupts=()),\n",
       " StateSnapshot(values={'title': 'pizza'}, next=('Generate_Joke',), config={'configurable': {'thread_id': '1', 'checkpoint_ns': '', 'checkpoint_id': '1f08b11c-592f-6c54-8001-165eee154da4'}}, metadata={'source': 'update', 'step': 1, 'parents': {}}, created_at='2025-09-06T11:08:09.393467+00:00', parent_config={'configurable': {'thread_id': '1', 'checkpoint_ns': '', 'checkpoint_id': '1f08b10b-5bff-61c0-8000-b0c68920562a'}}, tasks=(PregelTask(id='a701255d-e614-66dd-50b5-e5e453147705', name='Generate_Joke', path=('__pregel_pull', 'Generate_Joke'), error=None, interrupts=(), state=None, result=None),), interrupts=()),\n",
       " StateSnapshot(values={'title': 'pizza', 'gen_joke': \"Why did the pizza go to therapy? It had a saucy attitude and a crusty exterior that was hiding a cheesy insecurity. Now it's working on a topping complex.\", 'gen_expl': 'This joke plays on the multiple meanings of pizza-related terms to create a humorous therapy session scenario. The \"saucy attitude\" and \"crusty exterior\" are clever wordplays on pizza characteristics that are also common psychological defense mechanisms, while \"cheesy insecurity\" and \"topping complex\" add to the cheesy puns, creating a lighthearted and amusing effect. The joke relies on the unexpected twist of applying culinary traits to human-like emotional struggles.'}, next=(), config={'configurable': {'thread_id': '1', 'checkpoint_ns': '', 'checkpoint_id': '1f08b119-9c19-6a46-8002-615bbd7c485d'}}, metadata={'source': 'loop', 'step': 2, 'parents': {}}, created_at='2025-09-06T11:06:55.879226+00:00', parent_config={'configurable': {'thread_id': '1', 'checkpoint_ns': '', 'checkpoint_id': '1f08b10b-6047-6daa-8001-9f5f6d1266bb'}}, tasks=(), interrupts=()),\n",
       " StateSnapshot(values={'title': 'pizza', 'gen_joke': \"Why did the pizza go to therapy? It had a saucy attitude and a crusty exterior that was hiding a cheesy insecurity. Now it's working on a topping complex.\"}, next=('Generate_Explanation',), config={'configurable': {'thread_id': '1', 'checkpoint_ns': '', 'checkpoint_id': '1f08b116-a92e-6e35-8002-cfe72e6685af'}}, metadata={'source': 'update', 'step': 2, 'parents': {}}, created_at='2025-09-06T11:05:36.720440+00:00', parent_config={'configurable': {'thread_id': '1', 'checkpoint_ns': '', 'checkpoint_id': '1f08b10b-6047-6daa-8001-9f5f6d1266bb'}}, tasks=(PregelTask(id='c4c9bd03-90b2-9486-28fc-0cb20551ed75', name='Generate_Explanation', path=('__pregel_pull', 'Generate_Explanation'), error=None, interrupts=(), state=None, result=None),), interrupts=()),\n",
       " StateSnapshot(values={'title': 'pizza', 'gen_joke': \"Why did the pizza go to therapy? It had a saucy attitude and a crusty personality. Now it's working on its toppings complex.\", 'gen_expl': 'This joke plays on the multiple meanings of pizza-related terms to create a punny therapy scenario. The phrase \"saucy attitude\" and \"crusty personality\" are wordplays on common pizza characteristics, implying the pizza has a cheeky and tough demeanor. The punchline about the \"toppings complex\" cleverly references both a psychological complex and the pizza toppings, adding a layer of cleverness to the joke.'}, next=(), config={'configurable': {'thread_id': '1', 'checkpoint_ns': '', 'checkpoint_id': '1f08b10f-b9d1-69b3-8002-6282a36b18bb'}}, metadata={'source': 'loop', 'step': 2, 'parents': {}}, created_at='2025-09-06T11:02:30.559992+00:00', parent_config={'configurable': {'thread_id': '1', 'checkpoint_ns': '', 'checkpoint_id': '1f08b10f-b283-69a1-8001-00d21162cb1f'}}, tasks=(), interrupts=()),\n",
       " StateSnapshot(values={'title': 'pizza', 'gen_joke': \"Why did the pizza go to therapy? It had a saucy attitude and a crusty personality. Now it's working on its toppings complex.\"}, next=('Generate_Explanation',), config={'configurable': {'thread_id': '1', 'checkpoint_ns': '', 'checkpoint_id': '1f08b10f-b283-69a1-8001-00d21162cb1f'}}, metadata={'source': 'loop', 'step': 1, 'parents': {}}, created_at='2025-09-06T11:02:29.794038+00:00', parent_config={'configurable': {'thread_id': '1', 'checkpoint_ns': '', 'checkpoint_id': '1f08b10b-5bff-61c0-8000-b0c68920562a'}}, tasks=(PregelTask(id='72315f97-58af-69dc-e7a8-e8719e2f4c72', name='Generate_Explanation', path=('__pregel_pull', 'Generate_Explanation'), error=None, interrupts=(), state=None, result={'gen_expl': 'This joke plays on the multiple meanings of pizza-related terms to create a punny therapy scenario. The phrase \"saucy attitude\" and \"crusty personality\" are wordplays on common pizza characteristics, implying the pizza has a cheeky and tough demeanor. The punchline about the \"toppings complex\" cleverly references both a psychological complex and the pizza toppings, adding a layer of cleverness to the joke.'}),), interrupts=()),\n",
       " StateSnapshot(values={'title': 'pizza', 'gen_joke': \"Why did the pizza go to therapy? It had a saucy attitude and a crusty exterior that was hiding a cheesy insecurity. Now it's working on a topping complex.\", 'gen_expl': 'This joke plays on the multiple meanings of pizza-related terms to create a humorous therapy session scenario. The \"saucy attitude\" and \"crusty exterior\" are puns on the pizza\\'s physical characteristics, while also describing a person\\'s defensive personality traits. The punchline about a \"topping complex\" cleverly ties the pizza theme to psychological jargon, implying the pizza (or person) is working on overcoming feelings of inadequacy.'}, next=(), config={'configurable': {'thread_id': '1', 'checkpoint_ns': '', 'checkpoint_id': '1f08b10b-68db-668a-8002-f5805a311354'}}, metadata={'source': 'loop', 'step': 2, 'parents': {}}, created_at='2025-09-06T11:00:34.696359+00:00', parent_config={'configurable': {'thread_id': '1', 'checkpoint_ns': '', 'checkpoint_id': '1f08b10b-6047-6daa-8001-9f5f6d1266bb'}}, tasks=(), interrupts=()),\n",
       " StateSnapshot(values={'title': 'pizza', 'gen_joke': \"Why did the pizza go to therapy? It had a saucy attitude and a crusty exterior that was hiding a cheesy insecurity. Now it's working on a topping complex.\"}, next=('Generate_Explanation',), config={'configurable': {'thread_id': '1', 'checkpoint_ns': '', 'checkpoint_id': '1f08b10b-6047-6daa-8001-9f5f6d1266bb'}}, metadata={'source': 'loop', 'step': 1, 'parents': {}}, created_at='2025-09-06T11:00:33.797060+00:00', parent_config={'configurable': {'thread_id': '1', 'checkpoint_ns': '', 'checkpoint_id': '1f08b10b-5bff-61c0-8000-b0c68920562a'}}, tasks=(PregelTask(id='5f573112-bae8-e7a3-345f-833b0caa57b3', name='Generate_Explanation', path=('__pregel_pull', 'Generate_Explanation'), error=None, interrupts=(), state=None, result={'gen_expl': 'This joke plays on the multiple meanings of pizza-related terms to create a humorous therapy session scenario. The \"saucy attitude\" and \"crusty exterior\" are puns on the pizza\\'s physical characteristics, while also describing a person\\'s defensive personality traits. The punchline about a \"topping complex\" cleverly ties the pizza theme to psychological jargon, implying the pizza (or person) is working on overcoming feelings of inadequacy.'}),), interrupts=()),\n",
       " StateSnapshot(values={'title': 'pizza'}, next=('Generate_Joke',), config={'configurable': {'thread_id': '1', 'checkpoint_ns': '', 'checkpoint_id': '1f08b10b-5bff-61c0-8000-b0c68920562a'}}, metadata={'source': 'loop', 'step': 0, 'parents': {}}, created_at='2025-09-06T11:00:33.347833+00:00', parent_config={'configurable': {'thread_id': '1', 'checkpoint_ns': '', 'checkpoint_id': '1f08b10b-5bfc-6ab8-bfff-d756dadc2cd1'}}, tasks=(PregelTask(id='48b936aa-f091-71b3-30a8-9745caef7bce', name='Generate_Joke', path=('__pregel_pull', 'Generate_Joke'), error=None, interrupts=(), state=None, result={'gen_joke': \"Why did the pizza go to therapy? It had a saucy attitude and a crusty exterior that was hiding a cheesy insecurity. Now it's working on a topping complex.\"}),), interrupts=()),\n",
       " StateSnapshot(values={}, next=('__start__',), config={'configurable': {'thread_id': '1', 'checkpoint_ns': '', 'checkpoint_id': '1f08b10b-5bfc-6ab8-bfff-d756dadc2cd1'}}, metadata={'source': 'input', 'step': -1, 'parents': {}}, created_at='2025-09-06T11:00:33.346834+00:00', parent_config=None, tasks=(PregelTask(id='86b6bcea-5d53-3ea4-d80d-2776d4a06cf8', name='__start__', path=('__pregel_pull', '__start__'), error=None, interrupts=(), state=None, result={'title': 'pizza'}),), interrupts=())]"
      ]
     },
     "execution_count": 22,
     "metadata": {},
     "output_type": "execute_result"
    }
   ],
   "source": [
    "# to show every checkpoint level pe state value.\n",
    "list(workflow.get_state_history(config={\"configurable\": {\"thread_id\": \"1\"}}))"
   ]
  }
 ],
 "metadata": {
  "kernelspec": {
   "display_name": "hf-gpu",
   "language": "python",
   "name": "python3"
  },
  "language_info": {
   "codemirror_mode": {
    "name": "ipython",
    "version": 3
   },
   "file_extension": ".py",
   "mimetype": "text/x-python",
   "name": "python",
   "nbconvert_exporter": "python",
   "pygments_lexer": "ipython3",
   "version": "3.10.18"
  }
 },
 "nbformat": 4,
 "nbformat_minor": 5
}
