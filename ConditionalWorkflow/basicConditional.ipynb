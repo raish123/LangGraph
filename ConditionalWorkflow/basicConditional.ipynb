{
 "cells": [
  {
   "cell_type": "code",
   "execution_count": 1,
   "id": "55b2400d",
   "metadata": {},
   "outputs": [
    {
     "data": {
      "text/plain": [
       "True"
      ]
     },
     "execution_count": 1,
     "metadata": {},
     "output_type": "execute_result"
    }
   ],
   "source": [
    "from langchain_groq import ChatGroq\n",
    "from langchain_openai import ChatOpenAI,OpenAIEmbeddings #this to above classes we used to interact with llm model.\n",
    "from dotenv import load_dotenv\n",
    "from langgraph.graph import StateGraph,END,START #this class we used to build stateful workflows in graphical form mei.\n",
    "from pydantic import BaseModel,Field,computed_field\n",
    "from typing import Annotated,List,Dict,TypedDict,Optional\n",
    "from langchain_core.output_parsers import PydanticOutputParser,StrOutputParser\n",
    "from langchain_core.prompts import PromptTemplate\n",
    "from langchain_huggingface import ChatHuggingFace,HuggingFaceEndpoint\n",
    "\n",
    "load_dotenv()"
   ]
  },
  {
   "cell_type": "markdown",
   "id": "ea90c53c",
   "metadata": {},
   "source": [
    "# step:1) creating Model object"
   ]
  },
  {
   "cell_type": "code",
   "execution_count": 2,
   "id": "83746117",
   "metadata": {},
   "outputs": [],
   "source": [
    "#Groq Model object\n",
    "model1 = ChatGroq(\n",
    "    model=\"groq/compound-mini\",\n",
    "    temperature=0.2\n",
    ")\n",
    "model1\n",
    "\n",
    "#openAI model object.\n",
    "model2 = ChatOpenAI(temperature=0.2)\n",
    "\n",
    "## Hugging Face endpoint define karo OPen source Model chat or Generation Model.\n",
    "llm = HuggingFaceEndpoint(\n",
    "    repo_id=\"mistralai/Mistral-7B-Instruct-v0.3\",\n",
    "    task=\"text-generation\",\n",
    "    max_new_tokens=512,\n",
    "    do_sample=False,\n",
    ")\n",
    "\n",
    "# Chat model object banao\n",
    "model3 = ChatHuggingFace(llm=llm)"
   ]
  },
  {
   "cell_type": "markdown",
   "id": "0b2928d5",
   "metadata": {},
   "source": [
    "# step:1) defining state or memory field by using pydantic class then after we create stategraph object"
   ]
  },
  {
   "cell_type": "code",
   "execution_count": 3,
   "id": "2036290f",
   "metadata": {},
   "outputs": [],
   "source": [
    "class QuadraticState(BaseModel):\n",
    "    a: Annotated[int, Field(..., description=\"Coefficient 'a' of the quadratic equation (must not be 0).\")]\n",
    "    b: Annotated[int, Field(..., description=\"Coefficient 'b' of the quadratic equation.\")]\n",
    "    c: Annotated[int, Field(..., description=\"Coefficient 'c' of the quadratic equation.\")]\n",
    "    \n",
    "    equation: Annotated[\n",
    "        Optional[str],\n",
    "        Field(None, description=\"The quadratic equation in the form ax² + bx + c = 0.\")\n",
    "    ]\n",
    "    \n",
    "    discriminant: Annotated[\n",
    "        Optional[float],\n",
    "        Field(None, description=\"The discriminant value (D = b² - 4ac). Determines the nature of the roots.\")\n",
    "    ]\n",
    "    \n",
    "    result: Annotated[\n",
    "        Optional[str],\n",
    "        Field(None, description=\"The calculated roots of the quadratic equation.\")\n",
    "    ]\n"
   ]
  },
  {
   "cell_type": "code",
   "execution_count": 4,
   "id": "28a96c1e",
   "metadata": {},
   "outputs": [
    {
     "data": {
      "text/plain": [
       "<langgraph.graph.state.StateGraph at 0x21770db7ca0>"
      ]
     },
     "execution_count": 4,
     "metadata": {},
     "output_type": "execute_result"
    }
   ],
   "source": [
    "#creating state object by using graphstate class.\n",
    "graph = StateGraph(QuadraticState)\n",
    "graph"
   ]
  },
  {
   "cell_type": "code",
   "execution_count": 5,
   "id": "629fb70c",
   "metadata": {},
   "outputs": [],
   "source": [
    "parser  = StrOutputParser()"
   ]
  },
  {
   "cell_type": "markdown",
   "id": "1f51f305",
   "metadata": {},
   "source": [
    "# step:2) adding nodes and edges to graph"
   ]
  },
  {
   "cell_type": "code",
   "execution_count": 6,
   "id": "a3226e43",
   "metadata": {},
   "outputs": [],
   "source": [
    "#creating  node of show_quadratic_equation by using python function in this function they perform action.\n",
    "def show_quadratic_equation(state:QuadraticState) ->QuadraticState:\n",
    "    #fetching the field from the state class.\n",
    "    a = state.a\n",
    "    b = state.b\n",
    "    c = state.c\n",
    "    \n",
    "    #creating structure instruction prompt\n",
    "    prompt = PromptTemplate(\n",
    "    template=\"\"\"\n",
    "    You are a math expert. \n",
    "    A quadratic equation is defined as: ax² + bx + c = 0. \n",
    "    The coefficients are:\n",
    "    - a = {a}\n",
    "    - b = {b}\n",
    "    - c = {c}\n",
    "\n",
    "    Task:\n",
    "    1. Write the quadratic equation in standard form.\n",
    "\n",
    "    Return the response in the following format:\n",
    "    Equation: ...\n",
    "    \"\"\",\n",
    "    input_variables=[\"a\", \"b\", \"c\"]\n",
    ")\n",
    "    \n",
    "    #now passing this prompt to model in the form of chain.\n",
    "    chain = prompt | model1 | parser\n",
    "    \n",
    "    #now invoking the chain and generate response\n",
    "    result = chain.invoke({'a':a,'b':b,'c':c}) \n",
    "    \n",
    "    #now updating the state object by using partial state concept after then returning the updated state.\n",
    "    return {\n",
    "        \"equation\": result\n",
    "    }"
   ]
  },
  {
   "cell_type": "code",
   "execution_count": 7,
   "id": "b2163faf",
   "metadata": {},
   "outputs": [],
   "source": [
    "def show_discriminant(state:QuadraticState) ->QuadraticState:\n",
    "    #fetching the field from the state class.\n",
    "    a = state.a\n",
    "    b = state.b\n",
    "    c = state.c\n",
    "    \n",
    "    # discriminant calculate karte hai directly\n",
    "    D = (b ** 2) - (4 * a * c)\n",
    "    #now updating the state object by using partial state concept after then returning the updated state.\n",
    "    return {\n",
    "        \"discriminant\": D\n",
    "    }\n",
    "    "
   ]
  },
  {
   "cell_type": "code",
   "execution_count": 8,
   "id": "61b3dd3b",
   "metadata": {},
   "outputs": [],
   "source": [
    "import math\n",
    "\n",
    "def real_root(state:QuadraticState) ->QuadraticState:\n",
    "    a = state.a\n",
    "    b = state.b\n",
    "    c = state.c\n",
    "    D = state.discriminant\n",
    "    \n",
    "    #formula to get root of x\n",
    "    root1 = (-b + math.sqrt(D)) / (2 * a)\n",
    "    root2 = (-b - math.sqrt(D)) / (2 * a)\n",
    "    \n",
    "    return {\n",
    "        'result': f\"the real roots are {root1} and {root2}\"\n",
    "    }\n",
    "    "
   ]
  },
  {
   "cell_type": "code",
   "execution_count": 9,
   "id": "7edb2212",
   "metadata": {},
   "outputs": [],
   "source": [
    "def equal_root(state:QuadraticState) ->QuadraticState:\n",
    "    a = state.a\n",
    "    b = state.b\n",
    "    c = state.c\n",
    "    D = state.discriminant\n",
    "    \n",
    "    #formula to get root of x\n",
    "    root1 = (-b ) / (2 * a)\n",
    "    \n",
    "    return {\n",
    "        'result': f\"the equal roots are {root1} \"\n",
    "    }\n",
    "    "
   ]
  },
  {
   "cell_type": "code",
   "execution_count": 10,
   "id": "a175b487",
   "metadata": {},
   "outputs": [],
   "source": [
    "import math\n",
    "\n",
    "def imaginary_root(state:QuadraticState) ->QuadraticState:\n",
    "\n",
    "    return {\n",
    "        'result': f\"the imaginary roots\"\n",
    "    }\n",
    "    "
   ]
  },
  {
   "cell_type": "markdown",
   "id": "64a33ee8",
   "metadata": {},
   "source": [
    "# using helper function to check the condition"
   ]
  },
  {
   "cell_type": "code",
   "execution_count": 11,
   "id": "128f49be",
   "metadata": {},
   "outputs": [],
   "source": [
    "from typing import Literal\n",
    "def check_condition(state:QuadraticState) ->Literal['real_root','equal_root','imaginary_root']:\n",
    "    # fetching the  field from state class.\n",
    "    D = state.discriminant\n",
    "    \n",
    "    if D>0:\n",
    "        return \"real_root\"\n",
    "    \n",
    "    elif D<0:\n",
    "        return \"imaginary_root\"\n",
    "    \n",
    "    elif D==0:\n",
    "        return \"equal_root\"\n",
    "    "
   ]
  },
  {
   "cell_type": "code",
   "execution_count": null,
   "id": "7eb83175",
   "metadata": {},
   "outputs": [
    {
     "data": {
      "text/plain": [
       "<langgraph.graph.state.StateGraph at 0x21770db7ca0>"
      ]
     },
     "execution_count": 12,
     "metadata": {},
     "output_type": "execute_result"
    }
   ],
   "source": [
    "#adding the nodes to the graph.\n",
    "graph.add_node(node='show_quadratic_equation',action=show_quadratic_equation)\n",
    "graph.add_node(node='show_discriminant',action=show_discriminant)\n",
    "graph.add_node(node='real_root',action=real_root)\n",
    "graph.add_node(node='equal_root',action=equal_root)\n",
    "graph.add_node(node='imaginary_root',action=imaginary_root)"
   ]
  },
  {
   "cell_type": "code",
   "execution_count": null,
   "id": "34d8fa1f",
   "metadata": {},
   "outputs": [
    {
     "data": {
      "image/png": "[encoded data removed]",
      "text/plain": [
       "<langgraph.graph.state.CompiledStateGraph object at 0x0000021770DB74C0>"
      ]
     },
     "execution_count": 13,
     "metadata": {},
     "output_type": "execute_result"
    }
   ],
   "source": [
    "#adding the edges to graph\n",
    "graph.add_edge(START,'show_quadratic_equation')\n",
    "graph.add_edge('show_quadratic_equation','show_discriminant')\n",
    "#now adding the condition to edge.\n",
    "graph.add_conditional_edges('show_discriminant',check_condition) ## function that returns the key for the next node\n",
    "\n",
    "#connecting condition nodes to END\n",
    "graph.add_edge('real_root',END)\n",
    "graph.add_edge('equal_root',END)\n",
    "graph.add_edge('imaginary_root',END)\n",
    "\n",
    "graph.compile()"
   ]
  },
  {
   "cell_type": "code",
   "execution_count": 14,
   "id": "912a4c7b",
   "metadata": {},
   "outputs": [
    {
     "data": {
      "text/plain": [
       "{'a': 4,\n",
       " 'b': 2,\n",
       " 'c': 3,\n",
       " 'equation': 'To write the quadratic equation in standard form, I will substitute the given coefficients into the general equation.\\n\\nThe general form of a quadratic equation is: ax² + bx + c = 0\\n\\nGiven coefficients:\\n- a = 4\\n- b = 2\\n- c = 3\\n\\nSubstituting these values into the general equation:\\n\\nEquation: 4x² + 2x + 3 = 0',\n",
       " 'discriminant': -44,\n",
       " 'result': 'the imaginary roots'}"
      ]
     },
     "execution_count": 14,
     "metadata": {},
     "output_type": "execute_result"
    }
   ],
   "source": [
    "#now compiling the graph.\n",
    "worklfow = graph.compile()\n",
    "\n",
    "#now invoking the workflow.\n",
    "#defining the initial_state.\n",
    "initial_state = QuadraticState(a=4,b=2,c=3) #passing initial to workflow this will share throught out workflow.\n",
    "\n",
    "\n",
    "response = worklfow.invoke(initial_state)\n",
    "response"
   ]
  },
  {
   "cell_type": "code",
   "execution_count": null,
   "id": "4fa83e32",
   "metadata": {},
   "outputs": [],
   "source": []
  }
 ],
 "metadata": {
  "kernelspec": {
   "display_name": "hf-gpu",
   "language": "python",
   "name": "python3"
  },
  "language_info": {
   "codemirror_mode": {
    "name": "ipython",
    "version": 3
   },
   "file_extension": ".py",
   "mimetype": "text/x-python",
   "name": "python",
   "nbconvert_exporter": "python",
   "pygments_lexer": "ipython3",
   "version": "3.10.18"
  }
 },
 "nbformat": 4,
 "nbformat_minor": 5
}
