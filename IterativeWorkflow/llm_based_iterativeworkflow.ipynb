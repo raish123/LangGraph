{
 "cells": [
  {
   "cell_type": "code",
   "execution_count": 1,
   "id": "d823ec5f",
   "metadata": {},
   "outputs": [
    {
     "data": {
      "text/plain": [
       "True"
      ]
     },
     "execution_count": 1,
     "metadata": {},
     "output_type": "execute_result"
    }
   ],
   "source": [
    "from langchain_groq import ChatGroq\n",
    "from langchain_openai import ChatOpenAI,OpenAIEmbeddings #this to above classes we used to interact with llm model.\n",
    "from dotenv import load_dotenv\n",
    "from langgraph.graph import StateGraph,END,START #this class we used to build stateful workflows in graphical form mei.\n",
    "from pydantic import BaseModel,Field,computed_field\n",
    "from typing import Annotated,List,Dict,TypedDict,Optional\n",
    "from langchain_core.output_parsers import PydanticOutputParser,StrOutputParser\n",
    "from langchain_core.prompts import PromptTemplate\n",
    "from langchain_huggingface import ChatHuggingFace,HuggingFaceEndpoint\n",
    "from typing import Literal,Optional\n",
    "from langchain_core.messages import AIMessage,HumanMessage,SystemMessage\n",
    "import operator\n",
    "\n",
    "load_dotenv()"
   ]
  },
  {
   "cell_type": "markdown",
   "id": "47255640",
   "metadata": {},
   "source": [
    "# step:1) defining Model objects."
   ]
  },
  {
   "cell_type": "code",
   "execution_count": 2,
   "id": "2ea9d35b",
   "metadata": {},
   "outputs": [],
   "source": [
    "#Groq Model object\n",
    "model1 = ChatGroq(\n",
    "    model=\"groq/compound-mini\",\n",
    "    temperature=0.2\n",
    ")\n",
    "model1\n",
    "\n",
    "#openAI model object.\n",
    "model2 = ChatOpenAI(temperature=0.2)\n",
    "\n",
    "## Hugging Face endpoint define karo OPen source Model chat or Generation Model.\n",
    "llm = HuggingFaceEndpoint(\n",
    "    repo_id=\"mistralai/Mistral-7B-Instruct-v0.3\",\n",
    "    task=\"text-generation\",\n",
    "    max_new_tokens=512,\n",
    "    do_sample=False,\n",
    ")\n",
    "\n",
    "# Chat model object banao\n",
    "model3 = ChatHuggingFace(llm=llm)"
   ]
  },
  {
   "cell_type": "markdown",
   "id": "1b9320c7",
   "metadata": {},
   "source": [
    "# step:2) defining the state or memory class based on workflow using TypedDict futhure we can create stategraph object"
   ]
  },
  {
   "cell_type": "code",
   "execution_count": 3,
   "id": "c2862901",
   "metadata": {},
   "outputs": [],
   "source": [
    "class TweetState(TypedDict):\n",
    "    topic:str\n",
    "    tweet :str | None                      #to store the generated tweet based on topic.\n",
    "    evaluation : Literal[\"approved\",\"not_approved\"] | None\n",
    "    feedback : str | None                  #after evaluating giving feedback\n",
    "    iteration : int | None                 #no of iteration counting\n",
    "    max_iteration : int | None             #infinite loop ko break karne ke liye we used this.\n",
    "    \n",
    "    #reducers key defining\n",
    "    feedback_history : Annotated[List[str],operator.add]\n",
    "    tweet_history : Annotated[List[str],operator.add]\n",
    "    "
   ]
  },
  {
   "cell_type": "code",
   "execution_count": 4,
   "id": "4d2dfcf7",
   "metadata": {},
   "outputs": [
    {
     "data": {
      "text/plain": [
       "<langgraph.graph.state.StateGraph at 0x26da5e97a00>"
      ]
     },
     "execution_count": 4,
     "metadata": {},
     "output_type": "execute_result"
    }
   ],
   "source": [
    "#creating a graph object by using graphstate class.\n",
    "graph = StateGraph(TweetState)\n",
    "graph"
   ]
  },
  {
   "cell_type": "markdown",
   "id": "0eb54592",
   "metadata": {},
   "source": [
    "# defining parsers"
   ]
  },
  {
   "cell_type": "code",
   "execution_count": 5,
   "id": "4c596458",
   "metadata": {},
   "outputs": [],
   "source": [
    "from langchain_core.output_parsers import StrOutputParser,PydanticOutputParser\n",
    "parser = StrOutputParser()"
   ]
  },
  {
   "cell_type": "code",
   "execution_count": 6,
   "id": "98732753",
   "metadata": {},
   "outputs": [],
   "source": [
    "#creating Generate_Tweet nodes by using function and performing action over task and updating state returning back updated state.\n",
    "def Generate_Tweet(state:TweetState) ->TweetState:\n",
    "    #fetching the field from the state class.\n",
    "    topic = state['topic']\n",
    "    \n",
    "    #based on this topic using LLM they are generating tweet by using Prompt template changing them into Structured Instruction Prompt.\n",
    "    messages = [\n",
    "        SystemMessage(content=\"You are Funny and clever Twitter/X social media content creator\"),\n",
    "        HumanMessage(content=f\"\"\"\n",
    "                     Write a short,original,and hiarious tweet on this topic:{topic}\n",
    "                     \n",
    "                     Task:\n",
    "                        1. Write a short and engaging tweet about the given topic.  \n",
    "                        2. Keep it under 280 characters.  \n",
    "                        3. Use simple, catchy, funny language.  \n",
    "                        4. Add 1-2 relevant hashtags.  \n",
    "                        5. Do not use question-answer format.\n",
    "                        6. Think in meme logic,punchlines or relatable takes.\n",
    "                        7. use simple day to day english Language.\n",
    "\n",
    "                     \n",
    "                    Return the response in this format:\n",
    "                  \"\"\")\n",
    "        \n",
    "    ]\n",
    "    \n",
    "    #passing this prompt to llm using sequential chain is runnable.\n",
    "    response = model3.invoke(messages)\n",
    "    \n",
    "    content = response.content\n",
    "    \n",
    "    #updating the content to state memory returning partial updated state.\n",
    "    return {\n",
    "        'tweet':content,\n",
    "        'tweet_history' :[content]\n",
    "        \n",
    "    }\n",
    "    "
   ]
  },
  {
   "cell_type": "code",
   "execution_count": 7,
   "id": "53ca8b54",
   "metadata": {},
   "outputs": [
    {
     "data": {
      "text/plain": [
       "PydanticOutputParser(pydantic_object=<class '__main__.EvaluationSchema'>)"
      ]
     },
     "execution_count": 7,
     "metadata": {},
     "output_type": "execute_result"
    }
   ],
   "source": [
    "# Creating a Pydantic class to structure evaluation results\n",
    "class EvaluationSchema(BaseModel):\n",
    "    eval: Annotated[\n",
    "        Literal[\"approved\", \"not_approved\"],\n",
    "        Field(..., description=\"Final evaluation result: choose either 'approved' or 'not_approved'.\")\n",
    "    ]\n",
    "    \n",
    "    feedback: Annotated[\n",
    "        str,\n",
    "        Field(..., description=\"Provide constructive feedback explaining the strengths and weekness about the tweet after evaluation.\")\n",
    "    ]\n",
    "    \n",
    "pydan_parser  = PydanticOutputParser(pydantic_object=EvaluationSchema)\n",
    "pydan_parser"
   ]
  },
  {
   "cell_type": "code",
   "execution_count": 8,
   "id": "400c6cbb",
   "metadata": {},
   "outputs": [],
   "source": [
    "#creating Generate_Tweet nodes by using function and performing action over task and updating state returning back updated state.\n",
    "def Evaluate_Generated_Tweet(state:TweetState) ->TweetState:\n",
    "    #fetching the field or key from state class.\n",
    "    tweet= state['tweet']\n",
    "    \n",
    "    #creating structure instruction template\n",
    "    eval_prompt = PromptTemplate(\n",
    "        template=\"\"\"\n",
    "            You are a social media content evaluator.  \n",
    "            Your task is to analyze the given tweet based on the following **Evaluation Criteria**:\n",
    "            \n",
    "            Evaluation Criteria:\n",
    "            - **Originality** – Is this fresh, or overused?\n",
    "            - **Humor** – Does it make people smile or laugh?\n",
    "            - **Punchiness** – Is it short, sharp, and scroll-stopping?\n",
    "            - **Virality Potential** – Could people share/retweet it widely?\n",
    "            - **Format** – Is it a valid tweet (well-formed, under 280 characters)?\n",
    "\n",
    "            Tweet: {tweet}\n",
    "\n",
    "            Return your evaluation strictly in the following JSON format:\n",
    "\n",
    "            {format_instructions}\n",
    "            \"\"\",\n",
    "            input_variables=['tweet'],\n",
    "            partial_variables={'format_instructions':pydan_parser.get_format_instructions()}\n",
    "    )\n",
    "    \n",
    "    #passing them to llm model so forming sequnetial chains.\n",
    "    chain = eval_prompt | model2 | pydan_parser\n",
    "    \n",
    "    #now invoking chain.\n",
    "    result = chain.invoke({'tweet':tweet})\n",
    "    \n",
    "    #updating them in state memory.\n",
    "    return {\n",
    "        'feedback': result.feedback,\n",
    "        'evaluation':result.eval,\n",
    "        'feedback_history' : [result.feedback]\n",
    "    }"
   ]
  },
  {
   "cell_type": "code",
   "execution_count": 9,
   "id": "2af49ff0",
   "metadata": {},
   "outputs": [],
   "source": [
    "#creating Optimizing_Tweet node by using function and performing action init.\n",
    "def Optimizing_Tweet(state:TweetState) -> TweetState:\n",
    "    #fetching the fielsd from satet class.\n",
    "    feedback = state['feedback']\n",
    "    evaluation = state['evaluation']\n",
    "    tweet  = state['tweet']\n",
    "    topic = state['topic']\n",
    "    \n",
    "    #creating a prompt structure instruction template\n",
    "      # structured prompt template\n",
    "    prompt = PromptTemplate(\n",
    "        template=\"\"\"\n",
    "            You are a professional social media strategist.  \n",
    "            A tweet was generated on the topic: **{topic}**  \n",
    "\n",
    "            Here is the original tweet:  \n",
    "            \"{tweet}\"  \n",
    "\n",
    "            Evaluation result: **{evaluation}**  \n",
    "            Evaluator feedback: \"{feedback}\"  \n",
    "\n",
    "            Your task:\n",
    "            - Improve or optimize the tweet while keeping it under 280 characters.  \n",
    "            - Apply the feedback to make it better (original, punchy, shareable).  \n",
    "            - Keep the tone engaging and clear.  \n",
    "\n",
    "            Return the final optimized tweet only in this format:  \n",
    "            Optimized_Tweet: ...\n",
    "            \"\"\",\n",
    "                    input_variables=[\"topic\", \"tweet\", \"evaluation\", \"feedback\"],\n",
    "        )\n",
    "    \n",
    "    #passing them to llm model so forming sequnetial chains.\n",
    "    chain = prompt | model2 | parser\n",
    "    \n",
    "    #now invoking chain.\n",
    "    result = chain.invoke({\"topic\":topic, \"tweet\":tweet, \"evaluation\":evaluation, \"feedback\":feedback})\n",
    "    \n",
    "    #updating them in state memory.\n",
    "    new_iteration_value = state['iteration'] + 1\n",
    "    \n",
    "    return {\n",
    "        'tweet':result,#result[\"Optimized_Tweet\"]\n",
    "        'iteration':new_iteration_value,\n",
    "        'tweet_history':[result]\n",
    "    }\n",
    "    "
   ]
  },
  {
   "cell_type": "markdown",
   "id": "3e357e46",
   "metadata": {},
   "source": [
    "# helper function that route the condition by edges"
   ]
  },
  {
   "cell_type": "code",
   "execution_count": 10,
   "id": "15101364",
   "metadata": {},
   "outputs": [],
   "source": [
    "def checkpoint_condition(state:TweetState) :\n",
    "    #fetching field from state class.\n",
    "    eval = state['evaluation']\n",
    "    iter = state['iteration']\n",
    "    \n",
    "    if eval == \"approved\" or iter >= max(state['max_iteration']) :\n",
    "        return \"approved\"\n",
    "    else:\n",
    "        return 'Optimizing_Tweet'"
   ]
  },
  {
   "cell_type": "code",
   "execution_count": null,
   "id": "1ab6e697",
   "metadata": {},
   "outputs": [],
   "source": []
  },
  {
   "cell_type": "markdown",
   "id": "07930401",
   "metadata": {},
   "source": [
    "# step:3) adding nodes or edges to graph"
   ]
  },
  {
   "cell_type": "code",
   "execution_count": 11,
   "id": "2faec4c5",
   "metadata": {},
   "outputs": [
    {
     "data": {
      "text/plain": [
       "<langgraph.graph.state.StateGraph at 0x26da5e97a00>"
      ]
     },
     "execution_count": 11,
     "metadata": {},
     "output_type": "execute_result"
    }
   ],
   "source": [
    "#adding nodes to graph (in nodes we define task and action init by passing state memory)\n",
    "graph.add_node(node=\"Generate_Tweet\",action=Generate_Tweet)\n",
    "graph.add_node(node=\"Evaluate_Generated_Tweet\",action=Evaluate_Generated_Tweet)\n",
    "graph.add_node(node=\"Optimizing_Tweet\",action=Optimizing_Tweet)\n"
   ]
  },
  {
   "cell_type": "code",
   "execution_count": 12,
   "id": "ced9fa30",
   "metadata": {},
   "outputs": [
    {
     "data": {
      "image/png": "[encoded data removed]",
      "text/plain": [
       "<langgraph.graph.state.CompiledStateGraph object at 0x0000026DA5E978E0>"
      ]
     },
     "execution_count": 12,
     "metadata": {},
     "output_type": "execute_result"
    }
   ],
   "source": [
    "#adding edges to nodes.\n",
    "graph.add_edge(START,'Generate_Tweet')\n",
    "graph.add_edge('Generate_Tweet','Evaluate_Generated_Tweet')\n",
    "\n",
    "#conditional edges.\n",
    "graph.add_conditional_edges('Evaluate_Generated_Tweet',checkpoint_condition,{'approved':END,\"not_approved\":\"Optimizing_Tweet\"})\n",
    "\n",
    "#loop edges(just manupulating the edges.).\n",
    "graph.add_edge('Optimizing_Tweet','Evaluate_Generated_Tweet')\n",
    "\n",
    "graph.compile()"
   ]
  },
  {
   "cell_type": "code",
   "execution_count": 21,
   "id": "fca47590",
   "metadata": {},
   "outputs": [
    {
     "data": {
      "text/plain": [
       "{'topic': 'Nirmala Sitaraman', 'max_iteration': 5, 'iteration': 1}"
      ]
     },
     "execution_count": 21,
     "metadata": {},
     "output_type": "execute_result"
    }
   ],
   "source": [
    "#compiling the workflow.\n",
    "workflow = graph.compile()\n",
    "\n",
    "\n",
    "#now passing the initial state to start nodes mei.\n",
    "initial_state = TweetState(topic=\"Nirmala Sitaraman\",max_iteration=5,iteration=1)\n",
    "initial_state"
   ]
  },
  {
   "cell_type": "code",
   "execution_count": 22,
   "id": "ad5384cb",
   "metadata": {},
   "outputs": [
    {
     "data": {
      "text/plain": [
       "{'topic': 'Nirmala Sitaraman',\n",
       " 'tweet': ' \"Nirmala Sitaraman just announced a new policy: From now on, every Indian will get a free \\'Chai-walla\\' license. Because who doesn\\'t need a cup of chai to handle the daily \\'desh ki baat\\'? #NirmalaSitaraman #ChaiWallaLicense\"',\n",
       " 'evaluation': 'approved',\n",
       " 'feedback': \"The tweet scores well on originality by combining a current event with a humorous twist. The mention of 'Chai-walla' license adds a relatable and funny element. The tweet is punchy and likely to catch people's attention while scrolling. It has the potential to go viral due to its humor and relevance to everyday life in India. The format is valid with proper use of hashtags and within the character limit.\",\n",
       " 'iteration': 1,\n",
       " 'max_iteration': 5,\n",
       " 'feedback_history': [\"The tweet scores well on originality by combining a current event with a humorous twist. The mention of 'Chai-walla' license adds a relatable and funny element. The tweet is punchy and likely to catch people's attention while scrolling. It has the potential to go viral due to its humor and relevance to everyday life in India. The format is valid with proper use of hashtags and within the character limit.\"],\n",
       " 'tweet_history': [' \"Nirmala Sitaraman just announced a new policy: From now on, every Indian will get a free \\'Chai-walla\\' license. Because who doesn\\'t need a cup of chai to handle the daily \\'desh ki baat\\'? #NirmalaSitaraman #ChaiWallaLicense\"']}"
      ]
     },
     "execution_count": 22,
     "metadata": {},
     "output_type": "execute_result"
    }
   ],
   "source": [
    "#passing this inital state through out workflow and sharing memory to each nodes edges\n",
    "result = workflow.invoke(initial_state)\n",
    "result"
   ]
  }
 ],
 "metadata": {
  "kernelspec": {
   "display_name": "hf-gpu",
   "language": "python",
   "name": "python3"
  },
  "language_info": {
   "codemirror_mode": {
    "name": "ipython",
    "version": 3
   },
   "file_extension": ".py",
   "mimetype": "text/x-python",
   "name": "python",
   "nbconvert_exporter": "python",
   "pygments_lexer": "ipython3",
   "version": "3.10.18"
  }
 },
 "nbformat": 4,
 "nbformat_minor": 5
}
